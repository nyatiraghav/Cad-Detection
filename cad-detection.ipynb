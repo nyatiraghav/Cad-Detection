{
 "cells": [
  {
   "cell_type": "code",
   "execution_count": 2,
   "id": "ddd2f28f",
   "metadata": {
    "execution": {
     "iopub.execute_input": "2024-04-16T17:39:50.381641Z",
     "iopub.status.busy": "2024-04-16T17:39:50.381203Z",
     "iopub.status.idle": "2024-04-16T17:39:53.944373Z",
     "shell.execute_reply": "2024-04-16T17:39:53.942996Z"
    },
    "executionInfo": {
     "elapsed": 6,
     "status": "ok",
     "timestamp": 1707139710970,
     "user": {
      "displayName": "Raghav Nyati",
      "userId": "06258339677951759314"
     },
     "user_tz": -330
    },
    "id": "0ab223ef-8df2-4dca-bffb-317e7ede12ce",
    "papermill": {
     "duration": 3.584771,
     "end_time": "2024-04-16T17:39:53.947824",
     "exception": false,
     "start_time": "2024-04-16T17:39:50.363053",
     "status": "completed"
    },
    "tags": []
   },
   "outputs": [],
   "source": [
    "import numpy as np\n",
    "import pandas as pd\n",
    "from sklearn.model_selection import train_test_split, GridSearchCV,RandomizedSearchCV\n",
    "from sklearn.metrics import accuracy_score\n",
    "from sklearn.preprocessing import StandardScaler\n",
    "from sklearn.linear_model import LogisticRegression\n",
    "from sklearn.metrics import roc_curve, auc\n",
    "from sklearn.metrics import roc_auc_score\n",
    "from xgboost import XGBClassifier\n",
    "from sklearn.svm import SVC\n",
    "import plotly.graph_objects as go \n",
    "from sklearn.ensemble import RandomForestClassifier\n",
    "\n",
    "\n",
    "RANDOM_STATE = 75"
   ]
  },
  {
   "cell_type": "code",
   "execution_count": 3,
   "id": "9e6b946b",
   "metadata": {
    "execution": {
     "iopub.execute_input": "2024-04-16T17:39:53.978678Z",
     "iopub.status.busy": "2024-04-16T17:39:53.978081Z",
     "iopub.status.idle": "2024-04-16T17:39:54.050672Z",
     "shell.execute_reply": "2024-04-16T17:39:54.049434Z"
    },
    "executionInfo": {
     "elapsed": 7,
     "status": "ok",
     "timestamp": 1707139718200,
     "user": {
      "displayName": "Raghav Nyati",
      "userId": "06258339677951759314"
     },
     "user_tz": -330
    },
    "id": "31d7d8de-8976-42c8-a394-bcc41787166a",
    "papermill": {
     "duration": 0.091154,
     "end_time": "2024-04-16T17:39:54.053745",
     "exception": false,
     "start_time": "2024-04-16T17:39:53.962591",
     "status": "completed"
    },
    "tags": []
   },
   "outputs": [
    {
     "data": {
      "text/html": [
       "<div>\n",
       "<style scoped>\n",
       "    .dataframe tbody tr th:only-of-type {\n",
       "        vertical-align: middle;\n",
       "    }\n",
       "\n",
       "    .dataframe tbody tr th {\n",
       "        vertical-align: top;\n",
       "    }\n",
       "\n",
       "    .dataframe thead th {\n",
       "        text-align: right;\n",
       "    }\n",
       "</style>\n",
       "<table border=\"1\" class=\"dataframe\">\n",
       "  <thead>\n",
       "    <tr style=\"text-align: right;\">\n",
       "      <th></th>\n",
       "      <th>Age</th>\n",
       "      <th>Weight</th>\n",
       "      <th>Height</th>\n",
       "      <th>Sex</th>\n",
       "      <th>BMI</th>\n",
       "      <th>Diabetes Mellitus</th>\n",
       "      <th>Hypertension</th>\n",
       "      <th>Current Smoker</th>\n",
       "      <th>EX-Smoker</th>\n",
       "      <th>Obesity</th>\n",
       "      <th>...</th>\n",
       "      <th>Left Ventricular Hypertrophy</th>\n",
       "      <th>Low Density Lipoprotein</th>\n",
       "      <th>High Density Lipoprotein</th>\n",
       "      <th>Ejection Fraction</th>\n",
       "      <th>Regional Wall Motion Abnormalities</th>\n",
       "      <th>Valvular Heart Disease</th>\n",
       "      <th>Left Anterior Descending</th>\n",
       "      <th>Left Circumflex</th>\n",
       "      <th>Right Coronary Artery</th>\n",
       "      <th>Result</th>\n",
       "    </tr>\n",
       "  </thead>\n",
       "  <tbody>\n",
       "    <tr>\n",
       "      <th>0</th>\n",
       "      <td>53</td>\n",
       "      <td>90</td>\n",
       "      <td>175</td>\n",
       "      <td>Male</td>\n",
       "      <td>29.387755</td>\n",
       "      <td>0</td>\n",
       "      <td>1</td>\n",
       "      <td>1</td>\n",
       "      <td>0</td>\n",
       "      <td>Y</td>\n",
       "      <td>...</td>\n",
       "      <td>N</td>\n",
       "      <td>155</td>\n",
       "      <td>30.0</td>\n",
       "      <td>50</td>\n",
       "      <td>0</td>\n",
       "      <td>N</td>\n",
       "      <td>Stenotic</td>\n",
       "      <td>Normal</td>\n",
       "      <td>Stenotic</td>\n",
       "      <td>CAD</td>\n",
       "    </tr>\n",
       "    <tr>\n",
       "      <th>1</th>\n",
       "      <td>67</td>\n",
       "      <td>70</td>\n",
       "      <td>157</td>\n",
       "      <td>Fmale</td>\n",
       "      <td>28.398718</td>\n",
       "      <td>0</td>\n",
       "      <td>1</td>\n",
       "      <td>0</td>\n",
       "      <td>0</td>\n",
       "      <td>Y</td>\n",
       "      <td>...</td>\n",
       "      <td>N</td>\n",
       "      <td>121</td>\n",
       "      <td>36.0</td>\n",
       "      <td>40</td>\n",
       "      <td>4</td>\n",
       "      <td>N</td>\n",
       "      <td>Stenotic</td>\n",
       "      <td>Stenotic</td>\n",
       "      <td>Normal</td>\n",
       "      <td>CAD</td>\n",
       "    </tr>\n",
       "    <tr>\n",
       "      <th>2</th>\n",
       "      <td>54</td>\n",
       "      <td>54</td>\n",
       "      <td>164</td>\n",
       "      <td>Male</td>\n",
       "      <td>20.077335</td>\n",
       "      <td>0</td>\n",
       "      <td>0</td>\n",
       "      <td>1</td>\n",
       "      <td>0</td>\n",
       "      <td>N</td>\n",
       "      <td>...</td>\n",
       "      <td>N</td>\n",
       "      <td>70</td>\n",
       "      <td>45.0</td>\n",
       "      <td>40</td>\n",
       "      <td>2</td>\n",
       "      <td>mild</td>\n",
       "      <td>Stenotic</td>\n",
       "      <td>Normal</td>\n",
       "      <td>Normal</td>\n",
       "      <td>CAD</td>\n",
       "    </tr>\n",
       "    <tr>\n",
       "      <th>3</th>\n",
       "      <td>66</td>\n",
       "      <td>67</td>\n",
       "      <td>158</td>\n",
       "      <td>Fmale</td>\n",
       "      <td>26.838648</td>\n",
       "      <td>0</td>\n",
       "      <td>1</td>\n",
       "      <td>0</td>\n",
       "      <td>0</td>\n",
       "      <td>Y</td>\n",
       "      <td>...</td>\n",
       "      <td>N</td>\n",
       "      <td>55</td>\n",
       "      <td>27.0</td>\n",
       "      <td>55</td>\n",
       "      <td>0</td>\n",
       "      <td>Severe</td>\n",
       "      <td>Normal</td>\n",
       "      <td>Normal</td>\n",
       "      <td>Normal</td>\n",
       "      <td>Normal</td>\n",
       "    </tr>\n",
       "    <tr>\n",
       "      <th>4</th>\n",
       "      <td>50</td>\n",
       "      <td>87</td>\n",
       "      <td>153</td>\n",
       "      <td>Fmale</td>\n",
       "      <td>37.165193</td>\n",
       "      <td>0</td>\n",
       "      <td>1</td>\n",
       "      <td>0</td>\n",
       "      <td>0</td>\n",
       "      <td>Y</td>\n",
       "      <td>...</td>\n",
       "      <td>N</td>\n",
       "      <td>110</td>\n",
       "      <td>50.0</td>\n",
       "      <td>50</td>\n",
       "      <td>0</td>\n",
       "      <td>Severe</td>\n",
       "      <td>Normal</td>\n",
       "      <td>Normal</td>\n",
       "      <td>Normal</td>\n",
       "      <td>Normal</td>\n",
       "    </tr>\n",
       "  </tbody>\n",
       "</table>\n",
       "<p>5 rows × 21 columns</p>\n",
       "</div>"
      ],
      "text/plain": [
       "   Age  Weight  Height    Sex        BMI  Diabetes Mellitus  Hypertension  \\\n",
       "0   53      90     175   Male  29.387755                  0             1   \n",
       "1   67      70     157  Fmale  28.398718                  0             1   \n",
       "2   54      54     164   Male  20.077335                  0             0   \n",
       "3   66      67     158  Fmale  26.838648                  0             1   \n",
       "4   50      87     153  Fmale  37.165193                  0             1   \n",
       "\n",
       "   Current Smoker  EX-Smoker Obesity  ...  Left Ventricular Hypertrophy  \\\n",
       "0               1          0       Y  ...                             N   \n",
       "1               0          0       Y  ...                             N   \n",
       "2               1          0       N  ...                             N   \n",
       "3               0          0       Y  ...                             N   \n",
       "4               0          0       Y  ...                             N   \n",
       "\n",
       "  Low Density Lipoprotein  High Density Lipoprotein  Ejection Fraction  \\\n",
       "0                     155                      30.0                 50   \n",
       "1                     121                      36.0                 40   \n",
       "2                      70                      45.0                 40   \n",
       "3                      55                      27.0                 55   \n",
       "4                     110                      50.0                 50   \n",
       "\n",
       "   Regional Wall Motion Abnormalities  Valvular Heart Disease  \\\n",
       "0                                   0                       N   \n",
       "1                                   4                       N   \n",
       "2                                   2                    mild   \n",
       "3                                   0                  Severe   \n",
       "4                                   0                  Severe   \n",
       "\n",
       "  Left Anterior Descending Left Circumflex Right Coronary Artery  Result  \n",
       "0                 Stenotic          Normal              Stenotic     CAD  \n",
       "1                 Stenotic        Stenotic                Normal     CAD  \n",
       "2                 Stenotic          Normal                Normal     CAD  \n",
       "3                   Normal          Normal                Normal  Normal  \n",
       "4                   Normal          Normal                Normal  Normal  \n",
       "\n",
       "[5 rows x 21 columns]"
      ]
     },
     "execution_count": 3,
     "metadata": {},
     "output_type": "execute_result"
    }
   ],
   "source": [
    "# loading data\n",
    "df = pd.read_csv(\"CAD Database.csv\")\n",
    "\n",
    "df.head()"
   ]
  },
  {
   "cell_type": "code",
   "execution_count": 4,
   "id": "d526b726",
   "metadata": {
    "execution": {
     "iopub.execute_input": "2024-04-16T17:39:54.085703Z",
     "iopub.status.busy": "2024-04-16T17:39:54.085249Z",
     "iopub.status.idle": "2024-04-16T17:39:54.092618Z",
     "shell.execute_reply": "2024-04-16T17:39:54.091666Z"
    },
    "executionInfo": {
     "elapsed": 6,
     "status": "ok",
     "timestamp": 1707139718201,
     "user": {
      "displayName": "Raghav Nyati",
      "userId": "06258339677951759314"
     },
     "user_tz": -330
    },
    "id": "83b6bbf5-d530-48d7-8641-0538153a2401",
    "papermill": {
     "duration": 0.026069,
     "end_time": "2024-04-16T17:39:54.095237",
     "exception": false,
     "start_time": "2024-04-16T17:39:54.069168",
     "status": "completed"
    },
    "tags": []
   },
   "outputs": [],
   "source": [
    "# selecting required input features\n",
    "df = df[['Age', 'Sex', 'Diabetes Mellitus', 'Hypertension', 'Current Smoker', 'EX-Smoker', 'Obesity', 'Typical Chest Pain','Left Ventricular Hypertrophy', 'Ejection Fraction', 'Regional Wall Motion Abnormalities', 'Valvular Heart Disease','Result']]"
   ]
  },
  {
   "cell_type": "code",
   "execution_count": 5,
   "id": "e4610b9c",
   "metadata": {
    "execution": {
     "iopub.execute_input": "2024-04-16T17:39:54.128287Z",
     "iopub.status.busy": "2024-04-16T17:39:54.127043Z",
     "iopub.status.idle": "2024-04-16T17:39:54.132213Z",
     "shell.execute_reply": "2024-04-16T17:39:54.131329Z"
    },
    "executionInfo": {
     "elapsed": 3,
     "status": "ok",
     "timestamp": 1707139720695,
     "user": {
      "displayName": "Raghav Nyati",
      "userId": "06258339677951759314"
     },
     "user_tz": -330
    },
    "id": "cce5b6d6-3d06-4457-a8d9-0cca35b2f696",
    "papermill": {
     "duration": 0.024717,
     "end_time": "2024-04-16T17:39:54.134778",
     "exception": false,
     "start_time": "2024-04-16T17:39:54.110061",
     "status": "completed"
    },
    "tags": []
   },
   "outputs": [],
   "source": [
    "# selecting categorical columns for one hot encoding\n",
    "cat_variables = ['Sex', 'Obesity', 'Left Ventricular Hypertrophy', 'Valvular Heart Disease']"
   ]
  },
  {
   "cell_type": "code",
   "execution_count": 6,
   "id": "a8988890",
   "metadata": {
    "execution": {
     "iopub.execute_input": "2024-04-16T17:39:54.167823Z",
     "iopub.status.busy": "2024-04-16T17:39:54.166328Z",
     "iopub.status.idle": "2024-04-16T17:39:54.186462Z",
     "shell.execute_reply": "2024-04-16T17:39:54.185057Z"
    },
    "executionInfo": {
     "elapsed": 3,
     "status": "ok",
     "timestamp": 1707139723210,
     "user": {
      "displayName": "Raghav Nyati",
      "userId": "06258339677951759314"
     },
     "user_tz": -330
    },
    "id": "6dc84443-d5a1-4891-abc9-c8b37c817f99",
    "papermill": {
     "duration": 0.03983,
     "end_time": "2024-04-16T17:39:54.189594",
     "exception": false,
     "start_time": "2024-04-16T17:39:54.149764",
     "status": "completed"
    },
    "tags": []
   },
   "outputs": [],
   "source": [
    "# performing one hot encoding on categorical columns\n",
    "df = pd.get_dummies(data = df,columns = cat_variables)"
   ]
  },
  {
   "cell_type": "code",
   "execution_count": 7,
   "id": "3a77070a",
   "metadata": {
    "execution": {
     "iopub.execute_input": "2024-04-16T17:39:54.221082Z",
     "iopub.status.busy": "2024-04-16T17:39:54.220573Z",
     "iopub.status.idle": "2024-04-16T17:39:54.249137Z",
     "shell.execute_reply": "2024-04-16T17:39:54.247709Z"
    },
    "executionInfo": {
     "elapsed": 5,
     "status": "ok",
     "timestamp": 1707139725060,
     "user": {
      "displayName": "Raghav Nyati",
      "userId": "06258339677951759314"
     },
     "user_tz": -330
    },
    "id": "7d9f4a9d-887d-4412-81be-05debf495f4b",
    "outputId": "7369d005-7094-46f5-91ad-270e1826270b",
    "papermill": {
     "duration": 0.047369,
     "end_time": "2024-04-16T17:39:54.251856",
     "exception": false,
     "start_time": "2024-04-16T17:39:54.204487",
     "status": "completed"
    },
    "tags": []
   },
   "outputs": [
    {
     "data": {
      "text/html": [
       "<div>\n",
       "<style scoped>\n",
       "    .dataframe tbody tr th:only-of-type {\n",
       "        vertical-align: middle;\n",
       "    }\n",
       "\n",
       "    .dataframe tbody tr th {\n",
       "        vertical-align: top;\n",
       "    }\n",
       "\n",
       "    .dataframe thead th {\n",
       "        text-align: right;\n",
       "    }\n",
       "</style>\n",
       "<table border=\"1\" class=\"dataframe\">\n",
       "  <thead>\n",
       "    <tr style=\"text-align: right;\">\n",
       "      <th></th>\n",
       "      <th>Age</th>\n",
       "      <th>Diabetes Mellitus</th>\n",
       "      <th>Hypertension</th>\n",
       "      <th>Current Smoker</th>\n",
       "      <th>EX-Smoker</th>\n",
       "      <th>Typical Chest Pain</th>\n",
       "      <th>Ejection Fraction</th>\n",
       "      <th>Regional Wall Motion Abnormalities</th>\n",
       "      <th>Result</th>\n",
       "      <th>Sex_Fmale</th>\n",
       "      <th>Sex_Male</th>\n",
       "      <th>Obesity_N</th>\n",
       "      <th>Obesity_Y</th>\n",
       "      <th>Left Ventricular Hypertrophy_N</th>\n",
       "      <th>Left Ventricular Hypertrophy_Y</th>\n",
       "      <th>Valvular Heart Disease_Moderate</th>\n",
       "      <th>Valvular Heart Disease_N</th>\n",
       "      <th>Valvular Heart Disease_Severe</th>\n",
       "      <th>Valvular Heart Disease_mild</th>\n",
       "    </tr>\n",
       "  </thead>\n",
       "  <tbody>\n",
       "    <tr>\n",
       "      <th>0</th>\n",
       "      <td>53</td>\n",
       "      <td>0</td>\n",
       "      <td>1</td>\n",
       "      <td>1</td>\n",
       "      <td>0</td>\n",
       "      <td>0</td>\n",
       "      <td>50</td>\n",
       "      <td>0</td>\n",
       "      <td>CAD</td>\n",
       "      <td>False</td>\n",
       "      <td>True</td>\n",
       "      <td>False</td>\n",
       "      <td>True</td>\n",
       "      <td>True</td>\n",
       "      <td>False</td>\n",
       "      <td>False</td>\n",
       "      <td>True</td>\n",
       "      <td>False</td>\n",
       "      <td>False</td>\n",
       "    </tr>\n",
       "    <tr>\n",
       "      <th>1</th>\n",
       "      <td>67</td>\n",
       "      <td>0</td>\n",
       "      <td>1</td>\n",
       "      <td>0</td>\n",
       "      <td>0</td>\n",
       "      <td>1</td>\n",
       "      <td>40</td>\n",
       "      <td>4</td>\n",
       "      <td>CAD</td>\n",
       "      <td>True</td>\n",
       "      <td>False</td>\n",
       "      <td>False</td>\n",
       "      <td>True</td>\n",
       "      <td>True</td>\n",
       "      <td>False</td>\n",
       "      <td>False</td>\n",
       "      <td>True</td>\n",
       "      <td>False</td>\n",
       "      <td>False</td>\n",
       "    </tr>\n",
       "    <tr>\n",
       "      <th>2</th>\n",
       "      <td>54</td>\n",
       "      <td>0</td>\n",
       "      <td>0</td>\n",
       "      <td>1</td>\n",
       "      <td>0</td>\n",
       "      <td>1</td>\n",
       "      <td>40</td>\n",
       "      <td>2</td>\n",
       "      <td>CAD</td>\n",
       "      <td>False</td>\n",
       "      <td>True</td>\n",
       "      <td>True</td>\n",
       "      <td>False</td>\n",
       "      <td>True</td>\n",
       "      <td>False</td>\n",
       "      <td>False</td>\n",
       "      <td>False</td>\n",
       "      <td>False</td>\n",
       "      <td>True</td>\n",
       "    </tr>\n",
       "    <tr>\n",
       "      <th>3</th>\n",
       "      <td>66</td>\n",
       "      <td>0</td>\n",
       "      <td>1</td>\n",
       "      <td>0</td>\n",
       "      <td>0</td>\n",
       "      <td>0</td>\n",
       "      <td>55</td>\n",
       "      <td>0</td>\n",
       "      <td>Normal</td>\n",
       "      <td>True</td>\n",
       "      <td>False</td>\n",
       "      <td>False</td>\n",
       "      <td>True</td>\n",
       "      <td>True</td>\n",
       "      <td>False</td>\n",
       "      <td>False</td>\n",
       "      <td>False</td>\n",
       "      <td>True</td>\n",
       "      <td>False</td>\n",
       "    </tr>\n",
       "    <tr>\n",
       "      <th>4</th>\n",
       "      <td>50</td>\n",
       "      <td>0</td>\n",
       "      <td>1</td>\n",
       "      <td>0</td>\n",
       "      <td>0</td>\n",
       "      <td>0</td>\n",
       "      <td>50</td>\n",
       "      <td>0</td>\n",
       "      <td>Normal</td>\n",
       "      <td>True</td>\n",
       "      <td>False</td>\n",
       "      <td>False</td>\n",
       "      <td>True</td>\n",
       "      <td>True</td>\n",
       "      <td>False</td>\n",
       "      <td>False</td>\n",
       "      <td>False</td>\n",
       "      <td>True</td>\n",
       "      <td>False</td>\n",
       "    </tr>\n",
       "    <tr>\n",
       "      <th>...</th>\n",
       "      <td>...</td>\n",
       "      <td>...</td>\n",
       "      <td>...</td>\n",
       "      <td>...</td>\n",
       "      <td>...</td>\n",
       "      <td>...</td>\n",
       "      <td>...</td>\n",
       "      <td>...</td>\n",
       "      <td>...</td>\n",
       "      <td>...</td>\n",
       "      <td>...</td>\n",
       "      <td>...</td>\n",
       "      <td>...</td>\n",
       "      <td>...</td>\n",
       "      <td>...</td>\n",
       "      <td>...</td>\n",
       "      <td>...</td>\n",
       "      <td>...</td>\n",
       "      <td>...</td>\n",
       "    </tr>\n",
       "    <tr>\n",
       "      <th>298</th>\n",
       "      <td>58</td>\n",
       "      <td>0</td>\n",
       "      <td>0</td>\n",
       "      <td>0</td>\n",
       "      <td>0</td>\n",
       "      <td>1</td>\n",
       "      <td>45</td>\n",
       "      <td>0</td>\n",
       "      <td>CAD</td>\n",
       "      <td>False</td>\n",
       "      <td>True</td>\n",
       "      <td>False</td>\n",
       "      <td>True</td>\n",
       "      <td>True</td>\n",
       "      <td>False</td>\n",
       "      <td>False</td>\n",
       "      <td>True</td>\n",
       "      <td>False</td>\n",
       "      <td>False</td>\n",
       "    </tr>\n",
       "    <tr>\n",
       "      <th>299</th>\n",
       "      <td>55</td>\n",
       "      <td>0</td>\n",
       "      <td>0</td>\n",
       "      <td>0</td>\n",
       "      <td>0</td>\n",
       "      <td>0</td>\n",
       "      <td>40</td>\n",
       "      <td>0</td>\n",
       "      <td>Normal</td>\n",
       "      <td>True</td>\n",
       "      <td>False</td>\n",
       "      <td>False</td>\n",
       "      <td>True</td>\n",
       "      <td>True</td>\n",
       "      <td>False</td>\n",
       "      <td>False</td>\n",
       "      <td>False</td>\n",
       "      <td>False</td>\n",
       "      <td>True</td>\n",
       "    </tr>\n",
       "    <tr>\n",
       "      <th>300</th>\n",
       "      <td>48</td>\n",
       "      <td>0</td>\n",
       "      <td>1</td>\n",
       "      <td>0</td>\n",
       "      <td>0</td>\n",
       "      <td>0</td>\n",
       "      <td>55</td>\n",
       "      <td>0</td>\n",
       "      <td>Normal</td>\n",
       "      <td>True</td>\n",
       "      <td>False</td>\n",
       "      <td>False</td>\n",
       "      <td>True</td>\n",
       "      <td>True</td>\n",
       "      <td>False</td>\n",
       "      <td>False</td>\n",
       "      <td>True</td>\n",
       "      <td>False</td>\n",
       "      <td>False</td>\n",
       "    </tr>\n",
       "    <tr>\n",
       "      <th>301</th>\n",
       "      <td>57</td>\n",
       "      <td>1</td>\n",
       "      <td>0</td>\n",
       "      <td>0</td>\n",
       "      <td>0</td>\n",
       "      <td>0</td>\n",
       "      <td>55</td>\n",
       "      <td>0</td>\n",
       "      <td>Normal</td>\n",
       "      <td>True</td>\n",
       "      <td>False</td>\n",
       "      <td>False</td>\n",
       "      <td>True</td>\n",
       "      <td>True</td>\n",
       "      <td>False</td>\n",
       "      <td>False</td>\n",
       "      <td>True</td>\n",
       "      <td>False</td>\n",
       "      <td>False</td>\n",
       "    </tr>\n",
       "    <tr>\n",
       "      <th>302</th>\n",
       "      <td>56</td>\n",
       "      <td>0</td>\n",
       "      <td>1</td>\n",
       "      <td>1</td>\n",
       "      <td>0</td>\n",
       "      <td>1</td>\n",
       "      <td>55</td>\n",
       "      <td>0</td>\n",
       "      <td>CAD</td>\n",
       "      <td>True</td>\n",
       "      <td>False</td>\n",
       "      <td>False</td>\n",
       "      <td>True</td>\n",
       "      <td>True</td>\n",
       "      <td>False</td>\n",
       "      <td>False</td>\n",
       "      <td>True</td>\n",
       "      <td>False</td>\n",
       "      <td>False</td>\n",
       "    </tr>\n",
       "  </tbody>\n",
       "</table>\n",
       "<p>303 rows × 19 columns</p>\n",
       "</div>"
      ],
      "text/plain": [
       "     Age  Diabetes Mellitus  Hypertension  Current Smoker  EX-Smoker  \\\n",
       "0     53                  0             1               1          0   \n",
       "1     67                  0             1               0          0   \n",
       "2     54                  0             0               1          0   \n",
       "3     66                  0             1               0          0   \n",
       "4     50                  0             1               0          0   \n",
       "..   ...                ...           ...             ...        ...   \n",
       "298   58                  0             0               0          0   \n",
       "299   55                  0             0               0          0   \n",
       "300   48                  0             1               0          0   \n",
       "301   57                  1             0               0          0   \n",
       "302   56                  0             1               1          0   \n",
       "\n",
       "     Typical Chest Pain  Ejection Fraction  \\\n",
       "0                     0                 50   \n",
       "1                     1                 40   \n",
       "2                     1                 40   \n",
       "3                     0                 55   \n",
       "4                     0                 50   \n",
       "..                  ...                ...   \n",
       "298                   1                 45   \n",
       "299                   0                 40   \n",
       "300                   0                 55   \n",
       "301                   0                 55   \n",
       "302                   1                 55   \n",
       "\n",
       "     Regional Wall Motion Abnormalities  Result  Sex_Fmale  Sex_Male  \\\n",
       "0                                     0     CAD      False      True   \n",
       "1                                     4     CAD       True     False   \n",
       "2                                     2     CAD      False      True   \n",
       "3                                     0  Normal       True     False   \n",
       "4                                     0  Normal       True     False   \n",
       "..                                  ...     ...        ...       ...   \n",
       "298                                   0     CAD      False      True   \n",
       "299                                   0  Normal       True     False   \n",
       "300                                   0  Normal       True     False   \n",
       "301                                   0  Normal       True     False   \n",
       "302                                   0     CAD       True     False   \n",
       "\n",
       "     Obesity_N  Obesity_Y  Left Ventricular Hypertrophy_N  \\\n",
       "0        False       True                            True   \n",
       "1        False       True                            True   \n",
       "2         True      False                            True   \n",
       "3        False       True                            True   \n",
       "4        False       True                            True   \n",
       "..         ...        ...                             ...   \n",
       "298      False       True                            True   \n",
       "299      False       True                            True   \n",
       "300      False       True                            True   \n",
       "301      False       True                            True   \n",
       "302      False       True                            True   \n",
       "\n",
       "     Left Ventricular Hypertrophy_Y  Valvular Heart Disease_Moderate  \\\n",
       "0                             False                            False   \n",
       "1                             False                            False   \n",
       "2                             False                            False   \n",
       "3                             False                            False   \n",
       "4                             False                            False   \n",
       "..                              ...                              ...   \n",
       "298                           False                            False   \n",
       "299                           False                            False   \n",
       "300                           False                            False   \n",
       "301                           False                            False   \n",
       "302                           False                            False   \n",
       "\n",
       "     Valvular Heart Disease_N  Valvular Heart Disease_Severe  \\\n",
       "0                        True                          False   \n",
       "1                        True                          False   \n",
       "2                       False                          False   \n",
       "3                       False                           True   \n",
       "4                       False                           True   \n",
       "..                        ...                            ...   \n",
       "298                      True                          False   \n",
       "299                     False                          False   \n",
       "300                      True                          False   \n",
       "301                      True                          False   \n",
       "302                      True                          False   \n",
       "\n",
       "     Valvular Heart Disease_mild  \n",
       "0                          False  \n",
       "1                          False  \n",
       "2                           True  \n",
       "3                          False  \n",
       "4                          False  \n",
       "..                           ...  \n",
       "298                        False  \n",
       "299                         True  \n",
       "300                        False  \n",
       "301                        False  \n",
       "302                        False  \n",
       "\n",
       "[303 rows x 19 columns]"
      ]
     },
     "execution_count": 7,
     "metadata": {},
     "output_type": "execute_result"
    }
   ],
   "source": [
    "# seeing the data after one hot encoding\n",
    "df"
   ]
  },
  {
   "cell_type": "code",
   "execution_count": 8,
   "id": "b148719e",
   "metadata": {
    "execution": {
     "iopub.execute_input": "2024-04-16T17:39:54.287288Z",
     "iopub.status.busy": "2024-04-16T17:39:54.285810Z",
     "iopub.status.idle": "2024-04-16T17:39:54.292751Z",
     "shell.execute_reply": "2024-04-16T17:39:54.291316Z"
    },
    "executionInfo": {
     "elapsed": 3,
     "status": "ok",
     "timestamp": 1707139727212,
     "user": {
      "displayName": "Raghav Nyati",
      "userId": "06258339677951759314"
     },
     "user_tz": -330
    },
    "id": "72bc169e-99b9-40d8-9da1-d9e9398fdb2b",
    "papermill": {
     "duration": 0.027883,
     "end_time": "2024-04-16T17:39:54.295744",
     "exception": false,
     "start_time": "2024-04-16T17:39:54.267861",
     "status": "completed"
    },
    "tags": []
   },
   "outputs": [],
   "source": [
    "# selecting all the other features than Result (excluding target variable)\n",
    "features = [x for x in df.columns if x not in 'Result']"
   ]
  },
  {
   "cell_type": "code",
   "execution_count": 9,
   "id": "39bb94a1",
   "metadata": {
    "execution": {
     "iopub.execute_input": "2024-04-16T17:39:54.330409Z",
     "iopub.status.busy": "2024-04-16T17:39:54.328577Z",
     "iopub.status.idle": "2024-04-16T17:39:54.342617Z",
     "shell.execute_reply": "2024-04-16T17:39:54.341563Z"
    },
    "executionInfo": {
     "elapsed": 3,
     "status": "ok",
     "timestamp": 1707139730878,
     "user": {
      "displayName": "Raghav Nyati",
      "userId": "06258339677951759314"
     },
     "user_tz": -330
    },
    "id": "40219e8a-fe28-4899-b7aa-1c92d2dec273",
    "papermill": {
     "duration": 0.035141,
     "end_time": "2024-04-16T17:39:54.346261",
     "exception": false,
     "start_time": "2024-04-16T17:39:54.311120",
     "status": "completed"
    },
    "tags": []
   },
   "outputs": [],
   "source": [
    "# converting all features to int datatype\n",
    "df[features] = df[features].astype(int)"
   ]
  },
  {
   "cell_type": "code",
   "execution_count": 10,
   "id": "ee1f6a39",
   "metadata": {
    "execution": {
     "iopub.execute_input": "2024-04-16T17:39:54.387029Z",
     "iopub.status.busy": "2024-04-16T17:39:54.385907Z",
     "iopub.status.idle": "2024-04-16T17:39:54.395384Z",
     "shell.execute_reply": "2024-04-16T17:39:54.393554Z"
    },
    "executionInfo": {
     "elapsed": 4,
     "status": "ok",
     "timestamp": 1707139732736,
     "user": {
      "displayName": "Raghav Nyati",
      "userId": "06258339677951759314"
     },
     "user_tz": -330
    },
    "id": "dd56a23f-2553-4fc8-b202-78c224dec023",
    "papermill": {
     "duration": 0.032773,
     "end_time": "2024-04-16T17:39:54.398696",
     "exception": false,
     "start_time": "2024-04-16T17:39:54.365923",
     "status": "completed"
    },
    "tags": []
   },
   "outputs": [],
   "source": [
    "# mapping CAD Result to 1 and Normal Result to 0\n",
    "df['Result'] = df['Result'].map({\"CAD\": 1, \"Normal\": 0})"
   ]
  },
  {
   "cell_type": "markdown",
   "id": "70aa442c",
   "metadata": {
    "id": "P2tPcEIhbYDY",
    "papermill": {
     "duration": 0.015681,
     "end_time": "2024-04-16T17:39:54.431248",
     "exception": false,
     "start_time": "2024-04-16T17:39:54.415567",
     "status": "completed"
    },
    "tags": []
   },
   "source": [
    "# XGBoost"
   ]
  },
  {
   "cell_type": "code",
   "execution_count": 11,
   "id": "04eefb99",
   "metadata": {
    "execution": {
     "iopub.execute_input": "2024-04-16T17:39:54.468434Z",
     "iopub.status.busy": "2024-04-16T17:39:54.467959Z",
     "iopub.status.idle": "2024-04-16T17:39:54.485906Z",
     "shell.execute_reply": "2024-04-16T17:39:54.484484Z"
    },
    "executionInfo": {
     "elapsed": 4,
     "status": "ok",
     "timestamp": 1707139734876,
     "user": {
      "displayName": "Raghav Nyati",
      "userId": "06258339677951759314"
     },
     "user_tz": -330
    },
    "id": "f8781866-3ead-46c4-8135-faf7913d9ce2",
    "papermill": {
     "duration": 0.043726,
     "end_time": "2024-04-16T17:39:54.491099",
     "exception": false,
     "start_time": "2024-04-16T17:39:54.447373",
     "status": "completed"
    },
    "tags": []
   },
   "outputs": [],
   "source": [
    "X_train, X_temp, y_train, y_temp = train_test_split(df[features], df['Result'], train_size=0.7, random_state=RANDOM_STATE)\n",
    "X_eval, X_test, y_eval, y_test = train_test_split(X_temp, y_temp, train_size=0.5, random_state=RANDOM_STATE)"
   ]
  },
  {
   "cell_type": "code",
   "execution_count": 12,
   "id": "b212a3c6",
   "metadata": {
    "execution": {
     "iopub.execute_input": "2024-04-16T17:39:54.535603Z",
     "iopub.status.busy": "2024-04-16T17:39:54.534948Z",
     "iopub.status.idle": "2024-04-16T17:39:55.054218Z",
     "shell.execute_reply": "2024-04-16T17:39:55.053118Z"
    },
    "executionInfo": {
     "elapsed": 3,
     "status": "ok",
     "timestamp": 1707139736726,
     "user": {
      "displayName": "Raghav Nyati",
      "userId": "06258339677951759314"
     },
     "user_tz": -330
    },
    "id": "049c5736-5ea0-42d3-8a35-ba200eee572b",
    "papermill": {
     "duration": 0.544429,
     "end_time": "2024-04-16T17:39:55.056900",
     "exception": false,
     "start_time": "2024-04-16T17:39:54.512471",
     "status": "completed"
    },
    "tags": []
   },
   "outputs": [
    {
     "name": "stdout",
     "output_type": "stream",
     "text": [
      "[0]\tvalidation_0-logloss:0.63334\n",
      "[1]\tvalidation_0-logloss:0.62875\n",
      "[2]\tvalidation_0-logloss:0.62427\n",
      "[3]\tvalidation_0-logloss:0.61983\n",
      "[4]\tvalidation_0-logloss:0.61556\n",
      "[5]\tvalidation_0-logloss:0.61123\n",
      "[6]\tvalidation_0-logloss:0.60709\n",
      "[7]\tvalidation_0-logloss:0.60295\n",
      "[8]\tvalidation_0-logloss:0.59866\n",
      "[9]\tvalidation_0-logloss:0.59471\n",
      "[10]\tvalidation_0-logloss:0.59058\n",
      "[11]\tvalidation_0-logloss:0.58671\n",
      "[12]\tvalidation_0-logloss:0.58307\n",
      "[13]\tvalidation_0-logloss:0.57904\n",
      "[14]\tvalidation_0-logloss:0.57661\n",
      "[15]\tvalidation_0-logloss:0.57260\n",
      "[16]\tvalidation_0-logloss:0.57013\n",
      "[17]\tvalidation_0-logloss:0.56783\n",
      "[18]\tvalidation_0-logloss:0.56389\n",
      "[19]\tvalidation_0-logloss:0.56175\n",
      "[20]\tvalidation_0-logloss:0.55793\n",
      "[21]\tvalidation_0-logloss:0.55495\n",
      "[22]\tvalidation_0-logloss:0.55273\n",
      "[23]\tvalidation_0-logloss:0.54923\n",
      "[24]\tvalidation_0-logloss:0.54620\n",
      "[25]\tvalidation_0-logloss:0.54342\n",
      "[26]\tvalidation_0-logloss:0.54134\n",
      "[27]\tvalidation_0-logloss:0.53812\n",
      "[28]\tvalidation_0-logloss:0.53542\n",
      "[29]\tvalidation_0-logloss:0.53210\n",
      "[30]\tvalidation_0-logloss:0.53036\n",
      "[31]\tvalidation_0-logloss:0.52763\n",
      "[32]\tvalidation_0-logloss:0.52460\n",
      "[33]\tvalidation_0-logloss:0.52284\n",
      "[34]\tvalidation_0-logloss:0.51996\n",
      "[35]\tvalidation_0-logloss:0.51748\n",
      "[36]\tvalidation_0-logloss:0.51510\n",
      "[37]\tvalidation_0-logloss:0.51214\n",
      "[38]\tvalidation_0-logloss:0.51073\n",
      "[39]\tvalidation_0-logloss:0.50840\n",
      "[40]\tvalidation_0-logloss:0.50571\n",
      "[41]\tvalidation_0-logloss:0.50438\n",
      "[42]\tvalidation_0-logloss:0.50169\n",
      "[43]\tvalidation_0-logloss:0.50031\n",
      "[44]\tvalidation_0-logloss:0.49787\n",
      "[45]\tvalidation_0-logloss:0.49589\n",
      "[46]\tvalidation_0-logloss:0.49325\n",
      "[47]\tvalidation_0-logloss:0.49207\n",
      "[48]\tvalidation_0-logloss:0.48958\n",
      "[49]\tvalidation_0-logloss:0.48829\n",
      "[50]\tvalidation_0-logloss:0.48604\n",
      "[51]\tvalidation_0-logloss:0.48494\n",
      "[52]\tvalidation_0-logloss:0.48258\n",
      "[53]\tvalidation_0-logloss:0.48086\n",
      "[54]\tvalidation_0-logloss:0.47873\n",
      "[55]\tvalidation_0-logloss:0.47765\n",
      "[56]\tvalidation_0-logloss:0.47539\n",
      "[57]\tvalidation_0-logloss:0.47435\n",
      "[58]\tvalidation_0-logloss:0.47186\n",
      "[59]\tvalidation_0-logloss:0.47029\n",
      "[60]\tvalidation_0-logloss:0.46892\n",
      "[61]\tvalidation_0-logloss:0.46672\n",
      "[62]\tvalidation_0-logloss:0.46545\n",
      "[63]\tvalidation_0-logloss:0.46405\n",
      "[64]\tvalidation_0-logloss:0.46208\n",
      "[65]\tvalidation_0-logloss:0.46105\n",
      "[66]\tvalidation_0-logloss:0.45937\n",
      "[67]\tvalidation_0-logloss:0.45738\n",
      "[68]\tvalidation_0-logloss:0.45648\n",
      "[69]\tvalidation_0-logloss:0.45545\n",
      "[70]\tvalidation_0-logloss:0.45369\n",
      "[71]\tvalidation_0-logloss:0.45150\n",
      "[72]\tvalidation_0-logloss:0.45071\n",
      "[73]\tvalidation_0-logloss:0.44981\n",
      "[74]\tvalidation_0-logloss:0.44790\n",
      "[75]\tvalidation_0-logloss:0.44718\n",
      "[76]\tvalidation_0-logloss:0.44508\n",
      "[77]\tvalidation_0-logloss:0.44339\n",
      "[78]\tvalidation_0-logloss:0.44258\n",
      "[79]\tvalidation_0-logloss:0.44085\n",
      "[80]\tvalidation_0-logloss:0.44015\n",
      "[81]\tvalidation_0-logloss:0.43868\n",
      "[82]\tvalidation_0-logloss:0.43700\n",
      "[83]\tvalidation_0-logloss:0.43626\n",
      "[84]\tvalidation_0-logloss:0.43474\n",
      "[85]\tvalidation_0-logloss:0.43403\n",
      "[86]\tvalidation_0-logloss:0.43213\n",
      "[87]\tvalidation_0-logloss:0.43047\n",
      "[88]\tvalidation_0-logloss:0.42990\n",
      "[89]\tvalidation_0-logloss:0.42827\n",
      "[90]\tvalidation_0-logloss:0.42761\n",
      "[91]\tvalidation_0-logloss:0.42602\n",
      "[92]\tvalidation_0-logloss:0.42550\n",
      "[93]\tvalidation_0-logloss:0.42422\n",
      "[94]\tvalidation_0-logloss:0.42266\n",
      "[95]\tvalidation_0-logloss:0.42206\n",
      "[96]\tvalidation_0-logloss:0.42064\n",
      "[97]\tvalidation_0-logloss:0.41974\n",
      "[98]\tvalidation_0-logloss:0.41824\n",
      "[99]\tvalidation_0-logloss:0.41766\n",
      "[100]\tvalidation_0-logloss:0.41720\n",
      "[101]\tvalidation_0-logloss:0.41603\n",
      "[102]\tvalidation_0-logloss:0.41519\n",
      "[103]\tvalidation_0-logloss:0.41374\n",
      "[104]\tvalidation_0-logloss:0.41304\n",
      "[105]\tvalidation_0-logloss:0.41162\n",
      "[106]\tvalidation_0-logloss:0.41113\n",
      "[107]\tvalidation_0-logloss:0.40974\n",
      "[108]\tvalidation_0-logloss:0.40936\n",
      "[109]\tvalidation_0-logloss:0.40830\n",
      "[110]\tvalidation_0-logloss:0.40763\n",
      "[111]\tvalidation_0-logloss:0.40745\n",
      "[112]\tvalidation_0-logloss:0.40650\n",
      "[113]\tvalidation_0-logloss:0.40612\n",
      "[114]\tvalidation_0-logloss:0.40489\n",
      "[115]\tvalidation_0-logloss:0.40426\n",
      "[116]\tvalidation_0-logloss:0.40334\n",
      "[117]\tvalidation_0-logloss:0.40235\n",
      "[118]\tvalidation_0-logloss:0.40200\n",
      "[119]\tvalidation_0-logloss:0.40187\n",
      "[120]\tvalidation_0-logloss:0.40127\n",
      "[121]\tvalidation_0-logloss:0.40040\n",
      "[122]\tvalidation_0-logloss:0.39925\n",
      "[123]\tvalidation_0-logloss:0.39868\n",
      "[124]\tvalidation_0-logloss:0.39775\n",
      "[125]\tvalidation_0-logloss:0.39732\n",
      "[126]\tvalidation_0-logloss:0.39652\n",
      "[127]\tvalidation_0-logloss:0.39590\n",
      "[128]\tvalidation_0-logloss:0.39497\n",
      "[129]\tvalidation_0-logloss:0.39386\n",
      "[130]\tvalidation_0-logloss:0.39331\n",
      "[131]\tvalidation_0-logloss:0.39291\n",
      "[132]\tvalidation_0-logloss:0.39185\n",
      "[133]\tvalidation_0-logloss:0.39155\n",
      "[134]\tvalidation_0-logloss:0.39036\n",
      "[135]\tvalidation_0-logloss:0.38985\n",
      "[136]\tvalidation_0-logloss:0.38906\n",
      "[137]\tvalidation_0-logloss:0.38823\n",
      "[138]\tvalidation_0-logloss:0.38782\n",
      "[139]\tvalidation_0-logloss:0.38742\n",
      "[140]\tvalidation_0-logloss:0.38692\n",
      "[141]\tvalidation_0-logloss:0.38654\n",
      "[142]\tvalidation_0-logloss:0.38606\n",
      "[143]\tvalidation_0-logloss:0.38568\n",
      "[144]\tvalidation_0-logloss:0.38549\n",
      "[145]\tvalidation_0-logloss:0.38502\n",
      "[146]\tvalidation_0-logloss:0.38467\n",
      "[147]\tvalidation_0-logloss:0.38422\n",
      "[148]\tvalidation_0-logloss:0.38388\n",
      "[149]\tvalidation_0-logloss:0.38372\n",
      "[150]\tvalidation_0-logloss:0.38324\n",
      "[151]\tvalidation_0-logloss:0.38310\n",
      "[152]\tvalidation_0-logloss:0.38282\n",
      "[153]\tvalidation_0-logloss:0.38239\n",
      "[154]\tvalidation_0-logloss:0.38226\n",
      "[155]\tvalidation_0-logloss:0.38180\n",
      "[156]\tvalidation_0-logloss:0.38154\n",
      "[157]\tvalidation_0-logloss:0.38143\n",
      "[158]\tvalidation_0-logloss:0.38079\n",
      "[159]\tvalidation_0-logloss:0.38055\n",
      "[160]\tvalidation_0-logloss:0.38012\n",
      "[161]\tvalidation_0-logloss:0.38002\n",
      "[162]\tvalidation_0-logloss:0.37977\n",
      "[163]\tvalidation_0-logloss:0.37956\n",
      "[164]\tvalidation_0-logloss:0.37948\n",
      "[165]\tvalidation_0-logloss:0.37908\n",
      "[166]\tvalidation_0-logloss:0.37888\n",
      "[167]\tvalidation_0-logloss:0.37885\n",
      "[168]\tvalidation_0-logloss:0.37840\n",
      "[169]\tvalidation_0-logloss:0.37818\n",
      "[170]\tvalidation_0-logloss:0.37780\n",
      "[171]\tvalidation_0-logloss:0.37778\n",
      "[172]\tvalidation_0-logloss:0.37761\n",
      "[173]\tvalidation_0-logloss:0.37740\n",
      "[174]\tvalidation_0-logloss:0.37736\n",
      "[175]\tvalidation_0-logloss:0.37653\n",
      "[176]\tvalidation_0-logloss:0.37654\n",
      "[177]\tvalidation_0-logloss:0.37634\n",
      "[178]\tvalidation_0-logloss:0.37552\n",
      "[179]\tvalidation_0-logloss:0.37535\n",
      "[180]\tvalidation_0-logloss:0.37553\n",
      "[181]\tvalidation_0-logloss:0.37511\n",
      "[182]\tvalidation_0-logloss:0.37432\n",
      "[183]\tvalidation_0-logloss:0.37432\n",
      "[184]\tvalidation_0-logloss:0.37355\n",
      "[185]\tvalidation_0-logloss:0.37314\n",
      "[186]\tvalidation_0-logloss:0.37316\n",
      "[187]\tvalidation_0-logloss:0.37240\n",
      "[188]\tvalidation_0-logloss:0.37240\n",
      "[189]\tvalidation_0-logloss:0.37165\n",
      "[190]\tvalidation_0-logloss:0.37148\n",
      "[191]\tvalidation_0-logloss:0.37151\n",
      "[192]\tvalidation_0-logloss:0.37078\n",
      "[193]\tvalidation_0-logloss:0.37062\n",
      "[194]\tvalidation_0-logloss:0.37046\n",
      "[195]\tvalidation_0-logloss:0.36974\n",
      "[196]\tvalidation_0-logloss:0.36923\n",
      "[197]\tvalidation_0-logloss:0.36928\n",
      "[198]\tvalidation_0-logloss:0.36913\n",
      "[199]\tvalidation_0-logloss:0.36863\n",
      "[200]\tvalidation_0-logloss:0.36849\n",
      "[201]\tvalidation_0-logloss:0.36817\n",
      "[202]\tvalidation_0-logloss:0.36804\n",
      "[203]\tvalidation_0-logloss:0.36737\n",
      "[204]\tvalidation_0-logloss:0.36704\n",
      "[205]\tvalidation_0-logloss:0.36675\n",
      "[206]\tvalidation_0-logloss:0.36627\n",
      "[207]\tvalidation_0-logloss:0.36595\n",
      "[208]\tvalidation_0-logloss:0.36607\n",
      "[209]\tvalidation_0-logloss:0.36543\n",
      "[210]\tvalidation_0-logloss:0.36530\n",
      "[211]\tvalidation_0-logloss:0.36484\n",
      "[212]\tvalidation_0-logloss:0.36459\n",
      "[213]\tvalidation_0-logloss:0.36428\n",
      "[214]\tvalidation_0-logloss:0.36385\n",
      "[215]\tvalidation_0-logloss:0.36342\n",
      "[216]\tvalidation_0-logloss:0.36312\n",
      "[217]\tvalidation_0-logloss:0.36271\n",
      "[218]\tvalidation_0-logloss:0.36285\n",
      "[219]\tvalidation_0-logloss:0.36245\n",
      "[220]\tvalidation_0-logloss:0.36233\n",
      "[221]\tvalidation_0-logloss:0.36243\n",
      "[222]\tvalidation_0-logloss:0.36215\n",
      "[223]\tvalidation_0-logloss:0.36176\n",
      "[224]\tvalidation_0-logloss:0.36138\n",
      "[225]\tvalidation_0-logloss:0.36111\n",
      "[226]\tvalidation_0-logloss:0.36075\n",
      "[227]\tvalidation_0-logloss:0.36014\n",
      "[228]\tvalidation_0-logloss:0.36055\n",
      "[229]\tvalidation_0-logloss:0.35996\n",
      "[230]\tvalidation_0-logloss:0.36037\n",
      "[231]\tvalidation_0-logloss:0.36003\n",
      "[232]\tvalidation_0-logloss:0.35978\n",
      "[233]\tvalidation_0-logloss:0.35946\n",
      "[234]\tvalidation_0-logloss:0.35890\n",
      "[235]\tvalidation_0-logloss:0.35932\n",
      "[236]\tvalidation_0-logloss:0.35877\n",
      "[237]\tvalidation_0-logloss:0.35919\n",
      "[238]\tvalidation_0-logloss:0.35890\n",
      "[239]\tvalidation_0-logloss:0.35915\n",
      "[240]\tvalidation_0-logloss:0.35862\n",
      "[241]\tvalidation_0-logloss:0.35883\n",
      "[242]\tvalidation_0-logloss:0.35853\n",
      "[243]\tvalidation_0-logloss:0.35897\n",
      "[244]\tvalidation_0-logloss:0.35846\n",
      "[245]\tvalidation_0-logloss:0.35851\n",
      "[246]\tvalidation_0-logloss:0.35822\n",
      "[247]\tvalidation_0-logloss:0.35799\n",
      "[248]\tvalidation_0-logloss:0.35772\n",
      "[249]\tvalidation_0-logloss:0.35784\n",
      "[250]\tvalidation_0-logloss:0.35828\n",
      "[251]\tvalidation_0-logloss:0.35800\n",
      "[252]\tvalidation_0-logloss:0.35778\n",
      "[253]\tvalidation_0-logloss:0.35753\n",
      "[254]\tvalidation_0-logloss:0.35760\n",
      "[255]\tvalidation_0-logloss:0.35714\n",
      "[256]\tvalidation_0-logloss:0.35742\n",
      "[257]\tvalidation_0-logloss:0.35719\n",
      "[258]\tvalidation_0-logloss:0.35727\n",
      "[259]\tvalidation_0-logloss:0.35704\n",
      "[260]\tvalidation_0-logloss:0.35663\n",
      "[261]\tvalidation_0-logloss:0.35692\n",
      "[262]\tvalidation_0-logloss:0.35669\n",
      "[263]\tvalidation_0-logloss:0.35665\n",
      "[264]\tvalidation_0-logloss:0.35624\n",
      "[265]\tvalidation_0-logloss:0.35623\n",
      "[266]\tvalidation_0-logloss:0.35633\n",
      "[267]\tvalidation_0-logloss:0.35612\n",
      "[268]\tvalidation_0-logloss:0.35622\n",
      "[269]\tvalidation_0-logloss:0.35587\n",
      "[270]\tvalidation_0-logloss:0.35546\n",
      "[271]\tvalidation_0-logloss:0.35543\n",
      "[272]\tvalidation_0-logloss:0.35524\n",
      "[273]\tvalidation_0-logloss:0.35554\n",
      "[274]\tvalidation_0-logloss:0.35558\n",
      "[275]\tvalidation_0-logloss:0.35524\n",
      "[276]\tvalidation_0-logloss:0.35485\n",
      "[277]\tvalidation_0-logloss:0.35496\n",
      "[278]\tvalidation_0-logloss:0.35457\n",
      "[279]\tvalidation_0-logloss:0.35488\n",
      "[280]\tvalidation_0-logloss:0.35455\n",
      "[281]\tvalidation_0-logloss:0.35417\n",
      "[282]\tvalidation_0-logloss:0.35415\n",
      "[283]\tvalidation_0-logloss:0.35377\n",
      "[284]\tvalidation_0-logloss:0.35383\n",
      "[285]\tvalidation_0-logloss:0.35413\n",
      "[286]\tvalidation_0-logloss:0.35362\n",
      "[287]\tvalidation_0-logloss:0.35324\n",
      "[288]\tvalidation_0-logloss:0.35322\n",
      "[289]\tvalidation_0-logloss:0.35306\n",
      "[290]\tvalidation_0-logloss:0.35319\n",
      "[291]\tvalidation_0-logloss:0.35282\n",
      "[292]\tvalidation_0-logloss:0.35246\n",
      "[293]\tvalidation_0-logloss:0.35260\n",
      "[294]\tvalidation_0-logloss:0.35231\n",
      "[295]\tvalidation_0-logloss:0.35245\n",
      "[296]\tvalidation_0-logloss:0.35209\n",
      "[297]\tvalidation_0-logloss:0.35174\n",
      "[298]\tvalidation_0-logloss:0.35179\n",
      "[299]\tvalidation_0-logloss:0.35185\n",
      "[300]\tvalidation_0-logloss:0.35189\n",
      "[301]\tvalidation_0-logloss:0.35151\n",
      "[302]\tvalidation_0-logloss:0.35116\n",
      "[303]\tvalidation_0-logloss:0.35079\n",
      "[304]\tvalidation_0-logloss:0.35083\n",
      "[305]\tvalidation_0-logloss:0.35083\n",
      "[306]\tvalidation_0-logloss:0.35047\n",
      "[307]\tvalidation_0-logloss:0.35022\n",
      "[308]\tvalidation_0-logloss:0.35026\n",
      "[309]\tvalidation_0-logloss:0.34991\n",
      "[310]\tvalidation_0-logloss:0.34992\n",
      "[311]\tvalidation_0-logloss:0.34958\n",
      "[312]\tvalidation_0-logloss:0.34933\n",
      "[313]\tvalidation_0-logloss:0.34955\n",
      "[314]\tvalidation_0-logloss:0.34922\n",
      "[315]\tvalidation_0-logloss:0.34927\n",
      "[316]\tvalidation_0-logloss:0.34903\n",
      "[317]\tvalidation_0-logloss:0.34870\n",
      "[318]\tvalidation_0-logloss:0.34871\n",
      "[319]\tvalidation_0-logloss:0.34894\n",
      "[320]\tvalidation_0-logloss:0.34863\n",
      "[321]\tvalidation_0-logloss:0.34839\n",
      "[322]\tvalidation_0-logloss:0.34862\n",
      "[323]\tvalidation_0-logloss:0.34831\n",
      "[324]\tvalidation_0-logloss:0.34836\n",
      "[325]\tvalidation_0-logloss:0.34813\n",
      "[326]\tvalidation_0-logloss:0.34783\n",
      "[327]\tvalidation_0-logloss:0.34806\n",
      "[328]\tvalidation_0-logloss:0.34829\n",
      "[329]\tvalidation_0-logloss:0.34806\n",
      "[330]\tvalidation_0-logloss:0.34772\n",
      "[331]\tvalidation_0-logloss:0.34749\n",
      "[332]\tvalidation_0-logloss:0.34783\n",
      "[333]\tvalidation_0-logloss:0.34761\n",
      "[334]\tvalidation_0-logloss:0.34738\n",
      "[335]\tvalidation_0-logloss:0.34741\n",
      "[336]\tvalidation_0-logloss:0.34775\n",
      "[337]\tvalidation_0-logloss:0.34742\n",
      "[338]\tvalidation_0-logloss:0.34720\n",
      "[339]\tvalidation_0-logloss:0.34724\n",
      "[340]\tvalidation_0-logloss:0.34715\n",
      "[341]\tvalidation_0-logloss:0.34692\n",
      "[342]\tvalidation_0-logloss:0.34716\n",
      "[343]\tvalidation_0-logloss:0.34695\n",
      "[344]\tvalidation_0-logloss:0.34718\n",
      "[345]\tvalidation_0-logloss:0.34687\n",
      "[346]\tvalidation_0-logloss:0.34667\n",
      "[347]\tvalidation_0-logloss:0.34671\n",
      "[348]\tvalidation_0-logloss:0.34651\n",
      "[349]\tvalidation_0-logloss:0.34620\n",
      "[350]\tvalidation_0-logloss:0.34655\n",
      "[351]\tvalidation_0-logloss:0.34636\n",
      "[352]\tvalidation_0-logloss:0.34640\n",
      "[353]\tvalidation_0-logloss:0.34601\n",
      "[354]\tvalidation_0-logloss:0.34571\n",
      "[355]\tvalidation_0-logloss:0.34566\n",
      "[356]\tvalidation_0-logloss:0.34601\n",
      "[357]\tvalidation_0-logloss:0.34570\n",
      "[358]\tvalidation_0-logloss:0.34575\n",
      "[359]\tvalidation_0-logloss:0.34609\n",
      "[360]\tvalidation_0-logloss:0.34592\n",
      "[361]\tvalidation_0-logloss:0.34553\n",
      "[362]\tvalidation_0-logloss:0.34573\n",
      "[363]\tvalidation_0-logloss:0.34556\n",
      "[364]\tvalidation_0-logloss:0.34526\n",
      "[365]\tvalidation_0-logloss:0.34531\n",
      "[366]\tvalidation_0-logloss:0.34514\n",
      "[367]\tvalidation_0-logloss:0.34541\n",
      "[368]\tvalidation_0-logloss:0.34563\n",
      "[369]\tvalidation_0-logloss:0.34547\n",
      "[370]\tvalidation_0-logloss:0.34509\n",
      "[371]\tvalidation_0-logloss:0.34506\n",
      "[372]\tvalidation_0-logloss:0.34511\n",
      "[373]\tvalidation_0-logloss:0.34535\n",
      "[374]\tvalidation_0-logloss:0.34555\n",
      "[375]\tvalidation_0-logloss:0.34552\n",
      "[376]\tvalidation_0-logloss:0.34587\n",
      "[377]\tvalidation_0-logloss:0.34572\n",
      "[378]\tvalidation_0-logloss:0.34542\n",
      "[379]\tvalidation_0-logloss:0.34547\n",
      "[380]\tvalidation_0-logloss:0.34575\n",
      "[381]\tvalidation_0-logloss:0.34558\n",
      "[382]\tvalidation_0-logloss:0.34582\n",
      "[383]\tvalidation_0-logloss:0.34607\n",
      "[384]\tvalidation_0-logloss:0.34584\n",
      "[385]\tvalidation_0-logloss:0.34619\n",
      "[386]\tvalidation_0-logloss:0.34648\n",
      "[387]\tvalidation_0-logloss:0.34654\n",
      "[388]\tvalidation_0-logloss:0.34623\n",
      "[389]\tvalidation_0-logloss:0.34607\n",
      "[390]\tvalidation_0-logloss:0.34636\n",
      "[391]\tvalidation_0-logloss:0.34660\n",
      "[392]\tvalidation_0-logloss:0.34646\n",
      "[393]\tvalidation_0-logloss:0.34670\n",
      "[394]\tvalidation_0-logloss:0.34636\n",
      "[395]\tvalidation_0-logloss:0.34612\n",
      "[396]\tvalidation_0-logloss:0.34633\n",
      "[397]\tvalidation_0-logloss:0.34639\n",
      "[398]\tvalidation_0-logloss:0.34655\n",
      "[399]\tvalidation_0-logloss:0.34632\n"
     ]
    },
    {
     "data": {
      "text/html": [
       "<style>#sk-container-id-1 {\n",
       "  /* Definition of color scheme common for light and dark mode */\n",
       "  --sklearn-color-text: black;\n",
       "  --sklearn-color-line: gray;\n",
       "  /* Definition of color scheme for unfitted estimators */\n",
       "  --sklearn-color-unfitted-level-0: #fff5e6;\n",
       "  --sklearn-color-unfitted-level-1: #f6e4d2;\n",
       "  --sklearn-color-unfitted-level-2: #ffe0b3;\n",
       "  --sklearn-color-unfitted-level-3: chocolate;\n",
       "  /* Definition of color scheme for fitted estimators */\n",
       "  --sklearn-color-fitted-level-0: #f0f8ff;\n",
       "  --sklearn-color-fitted-level-1: #d4ebff;\n",
       "  --sklearn-color-fitted-level-2: #b3dbfd;\n",
       "  --sklearn-color-fitted-level-3: cornflowerblue;\n",
       "\n",
       "  /* Specific color for light theme */\n",
       "  --sklearn-color-text-on-default-background: var(--sg-text-color, var(--theme-code-foreground, var(--jp-content-font-color1, black)));\n",
       "  --sklearn-color-background: var(--sg-background-color, var(--theme-background, var(--jp-layout-color0, white)));\n",
       "  --sklearn-color-border-box: var(--sg-text-color, var(--theme-code-foreground, var(--jp-content-font-color1, black)));\n",
       "  --sklearn-color-icon: #696969;\n",
       "\n",
       "  @media (prefers-color-scheme: dark) {\n",
       "    /* Redefinition of color scheme for dark theme */\n",
       "    --sklearn-color-text-on-default-background: var(--sg-text-color, var(--theme-code-foreground, var(--jp-content-font-color1, white)));\n",
       "    --sklearn-color-background: var(--sg-background-color, var(--theme-background, var(--jp-layout-color0, #111)));\n",
       "    --sklearn-color-border-box: var(--sg-text-color, var(--theme-code-foreground, var(--jp-content-font-color1, white)));\n",
       "    --sklearn-color-icon: #878787;\n",
       "  }\n",
       "}\n",
       "\n",
       "#sk-container-id-1 {\n",
       "  color: var(--sklearn-color-text);\n",
       "}\n",
       "\n",
       "#sk-container-id-1 pre {\n",
       "  padding: 0;\n",
       "}\n",
       "\n",
       "#sk-container-id-1 input.sk-hidden--visually {\n",
       "  border: 0;\n",
       "  clip: rect(1px 1px 1px 1px);\n",
       "  clip: rect(1px, 1px, 1px, 1px);\n",
       "  height: 1px;\n",
       "  margin: -1px;\n",
       "  overflow: hidden;\n",
       "  padding: 0;\n",
       "  position: absolute;\n",
       "  width: 1px;\n",
       "}\n",
       "\n",
       "#sk-container-id-1 div.sk-dashed-wrapped {\n",
       "  border: 1px dashed var(--sklearn-color-line);\n",
       "  margin: 0 0.4em 0.5em 0.4em;\n",
       "  box-sizing: border-box;\n",
       "  padding-bottom: 0.4em;\n",
       "  background-color: var(--sklearn-color-background);\n",
       "}\n",
       "\n",
       "#sk-container-id-1 div.sk-container {\n",
       "  /* jupyter's `normalize.less` sets `[hidden] { display: none; }`\n",
       "     but bootstrap.min.css set `[hidden] { display: none !important; }`\n",
       "     so we also need the `!important` here to be able to override the\n",
       "     default hidden behavior on the sphinx rendered scikit-learn.org.\n",
       "     See: https://github.com/scikit-learn/scikit-learn/issues/21755 */\n",
       "  display: inline-block !important;\n",
       "  position: relative;\n",
       "}\n",
       "\n",
       "#sk-container-id-1 div.sk-text-repr-fallback {\n",
       "  display: none;\n",
       "}\n",
       "\n",
       "div.sk-parallel-item,\n",
       "div.sk-serial,\n",
       "div.sk-item {\n",
       "  /* draw centered vertical line to link estimators */\n",
       "  background-image: linear-gradient(var(--sklearn-color-text-on-default-background), var(--sklearn-color-text-on-default-background));\n",
       "  background-size: 2px 100%;\n",
       "  background-repeat: no-repeat;\n",
       "  background-position: center center;\n",
       "}\n",
       "\n",
       "/* Parallel-specific style estimator block */\n",
       "\n",
       "#sk-container-id-1 div.sk-parallel-item::after {\n",
       "  content: \"\";\n",
       "  width: 100%;\n",
       "  border-bottom: 2px solid var(--sklearn-color-text-on-default-background);\n",
       "  flex-grow: 1;\n",
       "}\n",
       "\n",
       "#sk-container-id-1 div.sk-parallel {\n",
       "  display: flex;\n",
       "  align-items: stretch;\n",
       "  justify-content: center;\n",
       "  background-color: var(--sklearn-color-background);\n",
       "  position: relative;\n",
       "}\n",
       "\n",
       "#sk-container-id-1 div.sk-parallel-item {\n",
       "  display: flex;\n",
       "  flex-direction: column;\n",
       "}\n",
       "\n",
       "#sk-container-id-1 div.sk-parallel-item:first-child::after {\n",
       "  align-self: flex-end;\n",
       "  width: 50%;\n",
       "}\n",
       "\n",
       "#sk-container-id-1 div.sk-parallel-item:last-child::after {\n",
       "  align-self: flex-start;\n",
       "  width: 50%;\n",
       "}\n",
       "\n",
       "#sk-container-id-1 div.sk-parallel-item:only-child::after {\n",
       "  width: 0;\n",
       "}\n",
       "\n",
       "/* Serial-specific style estimator block */\n",
       "\n",
       "#sk-container-id-1 div.sk-serial {\n",
       "  display: flex;\n",
       "  flex-direction: column;\n",
       "  align-items: center;\n",
       "  background-color: var(--sklearn-color-background);\n",
       "  padding-right: 1em;\n",
       "  padding-left: 1em;\n",
       "}\n",
       "\n",
       "\n",
       "/* Toggleable style: style used for estimator/Pipeline/ColumnTransformer box that is\n",
       "clickable and can be expanded/collapsed.\n",
       "- Pipeline and ColumnTransformer use this feature and define the default style\n",
       "- Estimators will overwrite some part of the style using the `sk-estimator` class\n",
       "*/\n",
       "\n",
       "/* Pipeline and ColumnTransformer style (default) */\n",
       "\n",
       "#sk-container-id-1 div.sk-toggleable {\n",
       "  /* Default theme specific background. It is overwritten whether we have a\n",
       "  specific estimator or a Pipeline/ColumnTransformer */\n",
       "  background-color: var(--sklearn-color-background);\n",
       "}\n",
       "\n",
       "/* Toggleable label */\n",
       "#sk-container-id-1 label.sk-toggleable__label {\n",
       "  cursor: pointer;\n",
       "  display: block;\n",
       "  width: 100%;\n",
       "  margin-bottom: 0;\n",
       "  padding: 0.5em;\n",
       "  box-sizing: border-box;\n",
       "  text-align: center;\n",
       "}\n",
       "\n",
       "#sk-container-id-1 label.sk-toggleable__label-arrow:before {\n",
       "  /* Arrow on the left of the label */\n",
       "  content: \"▸\";\n",
       "  float: left;\n",
       "  margin-right: 0.25em;\n",
       "  color: var(--sklearn-color-icon);\n",
       "}\n",
       "\n",
       "#sk-container-id-1 label.sk-toggleable__label-arrow:hover:before {\n",
       "  color: var(--sklearn-color-text);\n",
       "}\n",
       "\n",
       "/* Toggleable content - dropdown */\n",
       "\n",
       "#sk-container-id-1 div.sk-toggleable__content {\n",
       "  max-height: 0;\n",
       "  max-width: 0;\n",
       "  overflow: hidden;\n",
       "  text-align: left;\n",
       "  /* unfitted */\n",
       "  background-color: var(--sklearn-color-unfitted-level-0);\n",
       "}\n",
       "\n",
       "#sk-container-id-1 div.sk-toggleable__content.fitted {\n",
       "  /* fitted */\n",
       "  background-color: var(--sklearn-color-fitted-level-0);\n",
       "}\n",
       "\n",
       "#sk-container-id-1 div.sk-toggleable__content pre {\n",
       "  margin: 0.2em;\n",
       "  border-radius: 0.25em;\n",
       "  color: var(--sklearn-color-text);\n",
       "  /* unfitted */\n",
       "  background-color: var(--sklearn-color-unfitted-level-0);\n",
       "}\n",
       "\n",
       "#sk-container-id-1 div.sk-toggleable__content.fitted pre {\n",
       "  /* unfitted */\n",
       "  background-color: var(--sklearn-color-fitted-level-0);\n",
       "}\n",
       "\n",
       "#sk-container-id-1 input.sk-toggleable__control:checked~div.sk-toggleable__content {\n",
       "  /* Expand drop-down */\n",
       "  max-height: 200px;\n",
       "  max-width: 100%;\n",
       "  overflow: auto;\n",
       "}\n",
       "\n",
       "#sk-container-id-1 input.sk-toggleable__control:checked~label.sk-toggleable__label-arrow:before {\n",
       "  content: \"▾\";\n",
       "}\n",
       "\n",
       "/* Pipeline/ColumnTransformer-specific style */\n",
       "\n",
       "#sk-container-id-1 div.sk-label input.sk-toggleable__control:checked~label.sk-toggleable__label {\n",
       "  color: var(--sklearn-color-text);\n",
       "  background-color: var(--sklearn-color-unfitted-level-2);\n",
       "}\n",
       "\n",
       "#sk-container-id-1 div.sk-label.fitted input.sk-toggleable__control:checked~label.sk-toggleable__label {\n",
       "  background-color: var(--sklearn-color-fitted-level-2);\n",
       "}\n",
       "\n",
       "/* Estimator-specific style */\n",
       "\n",
       "/* Colorize estimator box */\n",
       "#sk-container-id-1 div.sk-estimator input.sk-toggleable__control:checked~label.sk-toggleable__label {\n",
       "  /* unfitted */\n",
       "  background-color: var(--sklearn-color-unfitted-level-2);\n",
       "}\n",
       "\n",
       "#sk-container-id-1 div.sk-estimator.fitted input.sk-toggleable__control:checked~label.sk-toggleable__label {\n",
       "  /* fitted */\n",
       "  background-color: var(--sklearn-color-fitted-level-2);\n",
       "}\n",
       "\n",
       "#sk-container-id-1 div.sk-label label.sk-toggleable__label,\n",
       "#sk-container-id-1 div.sk-label label {\n",
       "  /* The background is the default theme color */\n",
       "  color: var(--sklearn-color-text-on-default-background);\n",
       "}\n",
       "\n",
       "/* On hover, darken the color of the background */\n",
       "#sk-container-id-1 div.sk-label:hover label.sk-toggleable__label {\n",
       "  color: var(--sklearn-color-text);\n",
       "  background-color: var(--sklearn-color-unfitted-level-2);\n",
       "}\n",
       "\n",
       "/* Label box, darken color on hover, fitted */\n",
       "#sk-container-id-1 div.sk-label.fitted:hover label.sk-toggleable__label.fitted {\n",
       "  color: var(--sklearn-color-text);\n",
       "  background-color: var(--sklearn-color-fitted-level-2);\n",
       "}\n",
       "\n",
       "/* Estimator label */\n",
       "\n",
       "#sk-container-id-1 div.sk-label label {\n",
       "  font-family: monospace;\n",
       "  font-weight: bold;\n",
       "  display: inline-block;\n",
       "  line-height: 1.2em;\n",
       "}\n",
       "\n",
       "#sk-container-id-1 div.sk-label-container {\n",
       "  text-align: center;\n",
       "}\n",
       "\n",
       "/* Estimator-specific */\n",
       "#sk-container-id-1 div.sk-estimator {\n",
       "  font-family: monospace;\n",
       "  border: 1px dotted var(--sklearn-color-border-box);\n",
       "  border-radius: 0.25em;\n",
       "  box-sizing: border-box;\n",
       "  margin-bottom: 0.5em;\n",
       "  /* unfitted */\n",
       "  background-color: var(--sklearn-color-unfitted-level-0);\n",
       "}\n",
       "\n",
       "#sk-container-id-1 div.sk-estimator.fitted {\n",
       "  /* fitted */\n",
       "  background-color: var(--sklearn-color-fitted-level-0);\n",
       "}\n",
       "\n",
       "/* on hover */\n",
       "#sk-container-id-1 div.sk-estimator:hover {\n",
       "  /* unfitted */\n",
       "  background-color: var(--sklearn-color-unfitted-level-2);\n",
       "}\n",
       "\n",
       "#sk-container-id-1 div.sk-estimator.fitted:hover {\n",
       "  /* fitted */\n",
       "  background-color: var(--sklearn-color-fitted-level-2);\n",
       "}\n",
       "\n",
       "/* Specification for estimator info (e.g. \"i\" and \"?\") */\n",
       "\n",
       "/* Common style for \"i\" and \"?\" */\n",
       "\n",
       ".sk-estimator-doc-link,\n",
       "a:link.sk-estimator-doc-link,\n",
       "a:visited.sk-estimator-doc-link {\n",
       "  float: right;\n",
       "  font-size: smaller;\n",
       "  line-height: 1em;\n",
       "  font-family: monospace;\n",
       "  background-color: var(--sklearn-color-background);\n",
       "  border-radius: 1em;\n",
       "  height: 1em;\n",
       "  width: 1em;\n",
       "  text-decoration: none !important;\n",
       "  margin-left: 1ex;\n",
       "  /* unfitted */\n",
       "  border: var(--sklearn-color-unfitted-level-1) 1pt solid;\n",
       "  color: var(--sklearn-color-unfitted-level-1);\n",
       "}\n",
       "\n",
       ".sk-estimator-doc-link.fitted,\n",
       "a:link.sk-estimator-doc-link.fitted,\n",
       "a:visited.sk-estimator-doc-link.fitted {\n",
       "  /* fitted */\n",
       "  border: var(--sklearn-color-fitted-level-1) 1pt solid;\n",
       "  color: var(--sklearn-color-fitted-level-1);\n",
       "}\n",
       "\n",
       "/* On hover */\n",
       "div.sk-estimator:hover .sk-estimator-doc-link:hover,\n",
       ".sk-estimator-doc-link:hover,\n",
       "div.sk-label-container:hover .sk-estimator-doc-link:hover,\n",
       ".sk-estimator-doc-link:hover {\n",
       "  /* unfitted */\n",
       "  background-color: var(--sklearn-color-unfitted-level-3);\n",
       "  color: var(--sklearn-color-background);\n",
       "  text-decoration: none;\n",
       "}\n",
       "\n",
       "div.sk-estimator.fitted:hover .sk-estimator-doc-link.fitted:hover,\n",
       ".sk-estimator-doc-link.fitted:hover,\n",
       "div.sk-label-container:hover .sk-estimator-doc-link.fitted:hover,\n",
       ".sk-estimator-doc-link.fitted:hover {\n",
       "  /* fitted */\n",
       "  background-color: var(--sklearn-color-fitted-level-3);\n",
       "  color: var(--sklearn-color-background);\n",
       "  text-decoration: none;\n",
       "}\n",
       "\n",
       "/* Span, style for the box shown on hovering the info icon */\n",
       ".sk-estimator-doc-link span {\n",
       "  display: none;\n",
       "  z-index: 9999;\n",
       "  position: relative;\n",
       "  font-weight: normal;\n",
       "  right: .2ex;\n",
       "  padding: .5ex;\n",
       "  margin: .5ex;\n",
       "  width: min-content;\n",
       "  min-width: 20ex;\n",
       "  max-width: 50ex;\n",
       "  color: var(--sklearn-color-text);\n",
       "  box-shadow: 2pt 2pt 4pt #999;\n",
       "  /* unfitted */\n",
       "  background: var(--sklearn-color-unfitted-level-0);\n",
       "  border: .5pt solid var(--sklearn-color-unfitted-level-3);\n",
       "}\n",
       "\n",
       ".sk-estimator-doc-link.fitted span {\n",
       "  /* fitted */\n",
       "  background: var(--sklearn-color-fitted-level-0);\n",
       "  border: var(--sklearn-color-fitted-level-3);\n",
       "}\n",
       "\n",
       ".sk-estimator-doc-link:hover span {\n",
       "  display: block;\n",
       "}\n",
       "\n",
       "/* \"?\"-specific style due to the `<a>` HTML tag */\n",
       "\n",
       "#sk-container-id-1 a.estimator_doc_link {\n",
       "  float: right;\n",
       "  font-size: 1rem;\n",
       "  line-height: 1em;\n",
       "  font-family: monospace;\n",
       "  background-color: var(--sklearn-color-background);\n",
       "  border-radius: 1rem;\n",
       "  height: 1rem;\n",
       "  width: 1rem;\n",
       "  text-decoration: none;\n",
       "  /* unfitted */\n",
       "  color: var(--sklearn-color-unfitted-level-1);\n",
       "  border: var(--sklearn-color-unfitted-level-1) 1pt solid;\n",
       "}\n",
       "\n",
       "#sk-container-id-1 a.estimator_doc_link.fitted {\n",
       "  /* fitted */\n",
       "  border: var(--sklearn-color-fitted-level-1) 1pt solid;\n",
       "  color: var(--sklearn-color-fitted-level-1);\n",
       "}\n",
       "\n",
       "/* On hover */\n",
       "#sk-container-id-1 a.estimator_doc_link:hover {\n",
       "  /* unfitted */\n",
       "  background-color: var(--sklearn-color-unfitted-level-3);\n",
       "  color: var(--sklearn-color-background);\n",
       "  text-decoration: none;\n",
       "}\n",
       "\n",
       "#sk-container-id-1 a.estimator_doc_link.fitted:hover {\n",
       "  /* fitted */\n",
       "  background-color: var(--sklearn-color-fitted-level-3);\n",
       "}\n",
       "</style><div id=\"sk-container-id-1\" class=\"sk-top-container\"><div class=\"sk-text-repr-fallback\"><pre>XGBClassifier(base_score=None, booster=None, callbacks=None,\n",
       "              colsample_bylevel=None, colsample_bynode=None,\n",
       "              colsample_bytree=None, device=None, early_stopping_rounds=30,\n",
       "              enable_categorical=False, eval_metric=None, feature_types=None,\n",
       "              gamma=None, grow_policy=None, importance_type=None,\n",
       "              interaction_constraints=None, learning_rate=0.01, max_bin=None,\n",
       "              max_cat_threshold=None, max_cat_to_onehot=None,\n",
       "              max_delta_step=None, max_depth=3, max_leaves=None,\n",
       "              min_child_weight=None, missing=nan, monotone_constraints=None,\n",
       "              multi_strategy=None, n_estimators=400, n_jobs=None,\n",
       "              num_parallel_tree=None, random_state=75, ...)</pre><b>In a Jupyter environment, please rerun this cell to show the HTML representation or trust the notebook. <br />On GitHub, the HTML representation is unable to render, please try loading this page with nbviewer.org.</b></div><div class=\"sk-container\" hidden><div class=\"sk-item\"><div class=\"sk-estimator fitted sk-toggleable\"><input class=\"sk-toggleable__control sk-hidden--visually\" id=\"sk-estimator-id-1\" type=\"checkbox\" checked><label for=\"sk-estimator-id-1\" class=\"sk-toggleable__label fitted sk-toggleable__label-arrow fitted\">&nbsp;XGBClassifier<span class=\"sk-estimator-doc-link fitted\">i<span>Fitted</span></span></label><div class=\"sk-toggleable__content fitted\"><pre>XGBClassifier(base_score=None, booster=None, callbacks=None,\n",
       "              colsample_bylevel=None, colsample_bynode=None,\n",
       "              colsample_bytree=None, device=None, early_stopping_rounds=30,\n",
       "              enable_categorical=False, eval_metric=None, feature_types=None,\n",
       "              gamma=None, grow_policy=None, importance_type=None,\n",
       "              interaction_constraints=None, learning_rate=0.01, max_bin=None,\n",
       "              max_cat_threshold=None, max_cat_to_onehot=None,\n",
       "              max_delta_step=None, max_depth=3, max_leaves=None,\n",
       "              min_child_weight=None, missing=nan, monotone_constraints=None,\n",
       "              multi_strategy=None, n_estimators=400, n_jobs=None,\n",
       "              num_parallel_tree=None, random_state=75, ...)</pre></div> </div></div></div></div>"
      ],
      "text/plain": [
       "XGBClassifier(base_score=None, booster=None, callbacks=None,\n",
       "              colsample_bylevel=None, colsample_bynode=None,\n",
       "              colsample_bytree=None, device=None, early_stopping_rounds=30,\n",
       "              enable_categorical=False, eval_metric=None, feature_types=None,\n",
       "              gamma=None, grow_policy=None, importance_type=None,\n",
       "              interaction_constraints=None, learning_rate=0.01, max_bin=None,\n",
       "              max_cat_threshold=None, max_cat_to_onehot=None,\n",
       "              max_delta_step=None, max_depth=3, max_leaves=None,\n",
       "              min_child_weight=None, missing=nan, monotone_constraints=None,\n",
       "              multi_strategy=None, n_estimators=400, n_jobs=None,\n",
       "              num_parallel_tree=None, random_state=75, ...)"
      ]
     },
     "execution_count": 12,
     "metadata": {},
     "output_type": "execute_result"
    }
   ],
   "source": [
    "xgb_model = XGBClassifier(n_estimators=400, learning_rate=0.01, max_depth=3, reg_alpha=0.1, reg_lambda=0.1, early_stopping_rounds=30, verbosity=1, random_state=RANDOM_STATE)\n",
    "xgb_model.fit(X_train, y_train, eval_set=[(X_eval, y_eval)], verbose=True)\n"
   ]
  },
  {
   "cell_type": "code",
   "execution_count": 13,
   "id": "efc4b4fe",
   "metadata": {
    "execution": {
     "iopub.execute_input": "2024-04-16T17:39:55.090638Z",
     "iopub.status.busy": "2024-04-16T17:39:55.090186Z",
     "iopub.status.idle": "2024-04-16T17:39:55.104136Z",
     "shell.execute_reply": "2024-04-16T17:39:55.103154Z"
    },
    "executionInfo": {
     "elapsed": 915,
     "status": "ok",
     "timestamp": 1707139738267,
     "user": {
      "displayName": "Raghav Nyati",
      "userId": "06258339677951759314"
     },
     "user_tz": -330
    },
    "id": "f8e004dc-b230-47e6-8428-f699e838cb20",
    "outputId": "57e31bab-155e-4866-da73-45c7406e8967",
    "papermill": {
     "duration": 0.034233,
     "end_time": "2024-04-16T17:39:55.107418",
     "exception": false,
     "start_time": "2024-04-16T17:39:55.073185",
     "status": "completed"
    },
    "tags": []
   },
   "outputs": [],
   "source": [
    "y_score = xgb_model.predict_proba(X_test)[:, 1]"
   ]
  },
  {
   "cell_type": "code",
   "execution_count": 14,
   "id": "03c06403",
   "metadata": {
    "execution": {
     "iopub.execute_input": "2024-04-16T17:39:55.142323Z",
     "iopub.status.busy": "2024-04-16T17:39:55.141891Z",
     "iopub.status.idle": "2024-04-16T17:39:55.158919Z",
     "shell.execute_reply": "2024-04-16T17:39:55.157934Z"
    },
    "executionInfo": {
     "elapsed": 4,
     "status": "ok",
     "timestamp": 1707139740404,
     "user": {
      "displayName": "Raghav Nyati",
      "userId": "06258339677951759314"
     },
     "user_tz": -330
    },
    "id": "04be5707-a4a4-46a6-942a-95c55a135fe5",
    "outputId": "70b477c9-2416-4060-93a8-45b2cb8afd3b",
    "papermill": {
     "duration": 0.036499,
     "end_time": "2024-04-16T17:39:55.161590",
     "exception": false,
     "start_time": "2024-04-16T17:39:55.125091",
     "status": "completed"
    },
    "tags": []
   },
   "outputs": [
    {
     "name": "stdout",
     "output_type": "stream",
     "text": [
      "Metrics test:\n",
      "\tAccuracy score: 0.8913\n"
     ]
    }
   ],
   "source": [
    "print(f\"Metrics test:\\n\\tAccuracy score: {accuracy_score(xgb_model.predict(X_test), y_test):.4f}\")"
   ]
  },
  {
   "cell_type": "code",
   "execution_count": 15,
   "id": "6d8221a4",
   "metadata": {
    "execution": {
     "iopub.execute_input": "2024-04-16T17:39:55.197171Z",
     "iopub.status.busy": "2024-04-16T17:39:55.196710Z",
     "iopub.status.idle": "2024-04-16T17:39:55.213329Z",
     "shell.execute_reply": "2024-04-16T17:39:55.211890Z"
    },
    "papermill": {
     "duration": 0.036928,
     "end_time": "2024-04-16T17:39:55.216531",
     "exception": false,
     "start_time": "2024-04-16T17:39:55.179603",
     "status": "completed"
    },
    "tags": []
   },
   "outputs": [],
   "source": [
    "fpr_xgb, tpr_xgb, thresholds = roc_curve(y_test, y_score)\n",
    "auc_xgb = roc_auc_score(y_test, y_score)"
   ]
  },
  {
   "cell_type": "markdown",
   "id": "c2ffd098",
   "metadata": {
    "id": "a485b73c-f30f-42c4-b7ff-742d8ae2b10b",
    "papermill": {
     "duration": 0.023348,
     "end_time": "2024-04-16T17:39:55.260603",
     "exception": false,
     "start_time": "2024-04-16T17:39:55.237255",
     "status": "completed"
    },
    "tags": []
   },
   "source": [
    "# Logistic Regression"
   ]
  },
  {
   "cell_type": "code",
   "execution_count": 16,
   "id": "ab67de58",
   "metadata": {
    "execution": {
     "iopub.execute_input": "2024-04-16T17:39:55.304946Z",
     "iopub.status.busy": "2024-04-16T17:39:55.303807Z",
     "iopub.status.idle": "2024-04-16T17:39:55.635336Z",
     "shell.execute_reply": "2024-04-16T17:39:55.634125Z"
    },
    "executionInfo": {
     "elapsed": 593,
     "status": "ok",
     "timestamp": 1707139747763,
     "user": {
      "displayName": "Raghav Nyati",
      "userId": "06258339677951759314"
     },
     "user_tz": -330
    },
    "id": "4df5e9a6-3758-4460-a3f5-17ea22992758",
    "outputId": "d980e031-db58-482b-d776-0555cf1e8070",
    "papermill": {
     "duration": 0.356404,
     "end_time": "2024-04-16T17:39:55.639716",
     "exception": false,
     "start_time": "2024-04-16T17:39:55.283312",
     "status": "completed"
    },
    "tags": []
   },
   "outputs": [
    {
     "data": {
      "text/html": [
       "<style>#sk-container-id-2 {\n",
       "  /* Definition of color scheme common for light and dark mode */\n",
       "  --sklearn-color-text: black;\n",
       "  --sklearn-color-line: gray;\n",
       "  /* Definition of color scheme for unfitted estimators */\n",
       "  --sklearn-color-unfitted-level-0: #fff5e6;\n",
       "  --sklearn-color-unfitted-level-1: #f6e4d2;\n",
       "  --sklearn-color-unfitted-level-2: #ffe0b3;\n",
       "  --sklearn-color-unfitted-level-3: chocolate;\n",
       "  /* Definition of color scheme for fitted estimators */\n",
       "  --sklearn-color-fitted-level-0: #f0f8ff;\n",
       "  --sklearn-color-fitted-level-1: #d4ebff;\n",
       "  --sklearn-color-fitted-level-2: #b3dbfd;\n",
       "  --sklearn-color-fitted-level-3: cornflowerblue;\n",
       "\n",
       "  /* Specific color for light theme */\n",
       "  --sklearn-color-text-on-default-background: var(--sg-text-color, var(--theme-code-foreground, var(--jp-content-font-color1, black)));\n",
       "  --sklearn-color-background: var(--sg-background-color, var(--theme-background, var(--jp-layout-color0, white)));\n",
       "  --sklearn-color-border-box: var(--sg-text-color, var(--theme-code-foreground, var(--jp-content-font-color1, black)));\n",
       "  --sklearn-color-icon: #696969;\n",
       "\n",
       "  @media (prefers-color-scheme: dark) {\n",
       "    /* Redefinition of color scheme for dark theme */\n",
       "    --sklearn-color-text-on-default-background: var(--sg-text-color, var(--theme-code-foreground, var(--jp-content-font-color1, white)));\n",
       "    --sklearn-color-background: var(--sg-background-color, var(--theme-background, var(--jp-layout-color0, #111)));\n",
       "    --sklearn-color-border-box: var(--sg-text-color, var(--theme-code-foreground, var(--jp-content-font-color1, white)));\n",
       "    --sklearn-color-icon: #878787;\n",
       "  }\n",
       "}\n",
       "\n",
       "#sk-container-id-2 {\n",
       "  color: var(--sklearn-color-text);\n",
       "}\n",
       "\n",
       "#sk-container-id-2 pre {\n",
       "  padding: 0;\n",
       "}\n",
       "\n",
       "#sk-container-id-2 input.sk-hidden--visually {\n",
       "  border: 0;\n",
       "  clip: rect(1px 1px 1px 1px);\n",
       "  clip: rect(1px, 1px, 1px, 1px);\n",
       "  height: 1px;\n",
       "  margin: -1px;\n",
       "  overflow: hidden;\n",
       "  padding: 0;\n",
       "  position: absolute;\n",
       "  width: 1px;\n",
       "}\n",
       "\n",
       "#sk-container-id-2 div.sk-dashed-wrapped {\n",
       "  border: 1px dashed var(--sklearn-color-line);\n",
       "  margin: 0 0.4em 0.5em 0.4em;\n",
       "  box-sizing: border-box;\n",
       "  padding-bottom: 0.4em;\n",
       "  background-color: var(--sklearn-color-background);\n",
       "}\n",
       "\n",
       "#sk-container-id-2 div.sk-container {\n",
       "  /* jupyter's `normalize.less` sets `[hidden] { display: none; }`\n",
       "     but bootstrap.min.css set `[hidden] { display: none !important; }`\n",
       "     so we also need the `!important` here to be able to override the\n",
       "     default hidden behavior on the sphinx rendered scikit-learn.org.\n",
       "     See: https://github.com/scikit-learn/scikit-learn/issues/21755 */\n",
       "  display: inline-block !important;\n",
       "  position: relative;\n",
       "}\n",
       "\n",
       "#sk-container-id-2 div.sk-text-repr-fallback {\n",
       "  display: none;\n",
       "}\n",
       "\n",
       "div.sk-parallel-item,\n",
       "div.sk-serial,\n",
       "div.sk-item {\n",
       "  /* draw centered vertical line to link estimators */\n",
       "  background-image: linear-gradient(var(--sklearn-color-text-on-default-background), var(--sklearn-color-text-on-default-background));\n",
       "  background-size: 2px 100%;\n",
       "  background-repeat: no-repeat;\n",
       "  background-position: center center;\n",
       "}\n",
       "\n",
       "/* Parallel-specific style estimator block */\n",
       "\n",
       "#sk-container-id-2 div.sk-parallel-item::after {\n",
       "  content: \"\";\n",
       "  width: 100%;\n",
       "  border-bottom: 2px solid var(--sklearn-color-text-on-default-background);\n",
       "  flex-grow: 1;\n",
       "}\n",
       "\n",
       "#sk-container-id-2 div.sk-parallel {\n",
       "  display: flex;\n",
       "  align-items: stretch;\n",
       "  justify-content: center;\n",
       "  background-color: var(--sklearn-color-background);\n",
       "  position: relative;\n",
       "}\n",
       "\n",
       "#sk-container-id-2 div.sk-parallel-item {\n",
       "  display: flex;\n",
       "  flex-direction: column;\n",
       "}\n",
       "\n",
       "#sk-container-id-2 div.sk-parallel-item:first-child::after {\n",
       "  align-self: flex-end;\n",
       "  width: 50%;\n",
       "}\n",
       "\n",
       "#sk-container-id-2 div.sk-parallel-item:last-child::after {\n",
       "  align-self: flex-start;\n",
       "  width: 50%;\n",
       "}\n",
       "\n",
       "#sk-container-id-2 div.sk-parallel-item:only-child::after {\n",
       "  width: 0;\n",
       "}\n",
       "\n",
       "/* Serial-specific style estimator block */\n",
       "\n",
       "#sk-container-id-2 div.sk-serial {\n",
       "  display: flex;\n",
       "  flex-direction: column;\n",
       "  align-items: center;\n",
       "  background-color: var(--sklearn-color-background);\n",
       "  padding-right: 1em;\n",
       "  padding-left: 1em;\n",
       "}\n",
       "\n",
       "\n",
       "/* Toggleable style: style used for estimator/Pipeline/ColumnTransformer box that is\n",
       "clickable and can be expanded/collapsed.\n",
       "- Pipeline and ColumnTransformer use this feature and define the default style\n",
       "- Estimators will overwrite some part of the style using the `sk-estimator` class\n",
       "*/\n",
       "\n",
       "/* Pipeline and ColumnTransformer style (default) */\n",
       "\n",
       "#sk-container-id-2 div.sk-toggleable {\n",
       "  /* Default theme specific background. It is overwritten whether we have a\n",
       "  specific estimator or a Pipeline/ColumnTransformer */\n",
       "  background-color: var(--sklearn-color-background);\n",
       "}\n",
       "\n",
       "/* Toggleable label */\n",
       "#sk-container-id-2 label.sk-toggleable__label {\n",
       "  cursor: pointer;\n",
       "  display: block;\n",
       "  width: 100%;\n",
       "  margin-bottom: 0;\n",
       "  padding: 0.5em;\n",
       "  box-sizing: border-box;\n",
       "  text-align: center;\n",
       "}\n",
       "\n",
       "#sk-container-id-2 label.sk-toggleable__label-arrow:before {\n",
       "  /* Arrow on the left of the label */\n",
       "  content: \"▸\";\n",
       "  float: left;\n",
       "  margin-right: 0.25em;\n",
       "  color: var(--sklearn-color-icon);\n",
       "}\n",
       "\n",
       "#sk-container-id-2 label.sk-toggleable__label-arrow:hover:before {\n",
       "  color: var(--sklearn-color-text);\n",
       "}\n",
       "\n",
       "/* Toggleable content - dropdown */\n",
       "\n",
       "#sk-container-id-2 div.sk-toggleable__content {\n",
       "  max-height: 0;\n",
       "  max-width: 0;\n",
       "  overflow: hidden;\n",
       "  text-align: left;\n",
       "  /* unfitted */\n",
       "  background-color: var(--sklearn-color-unfitted-level-0);\n",
       "}\n",
       "\n",
       "#sk-container-id-2 div.sk-toggleable__content.fitted {\n",
       "  /* fitted */\n",
       "  background-color: var(--sklearn-color-fitted-level-0);\n",
       "}\n",
       "\n",
       "#sk-container-id-2 div.sk-toggleable__content pre {\n",
       "  margin: 0.2em;\n",
       "  border-radius: 0.25em;\n",
       "  color: var(--sklearn-color-text);\n",
       "  /* unfitted */\n",
       "  background-color: var(--sklearn-color-unfitted-level-0);\n",
       "}\n",
       "\n",
       "#sk-container-id-2 div.sk-toggleable__content.fitted pre {\n",
       "  /* unfitted */\n",
       "  background-color: var(--sklearn-color-fitted-level-0);\n",
       "}\n",
       "\n",
       "#sk-container-id-2 input.sk-toggleable__control:checked~div.sk-toggleable__content {\n",
       "  /* Expand drop-down */\n",
       "  max-height: 200px;\n",
       "  max-width: 100%;\n",
       "  overflow: auto;\n",
       "}\n",
       "\n",
       "#sk-container-id-2 input.sk-toggleable__control:checked~label.sk-toggleable__label-arrow:before {\n",
       "  content: \"▾\";\n",
       "}\n",
       "\n",
       "/* Pipeline/ColumnTransformer-specific style */\n",
       "\n",
       "#sk-container-id-2 div.sk-label input.sk-toggleable__control:checked~label.sk-toggleable__label {\n",
       "  color: var(--sklearn-color-text);\n",
       "  background-color: var(--sklearn-color-unfitted-level-2);\n",
       "}\n",
       "\n",
       "#sk-container-id-2 div.sk-label.fitted input.sk-toggleable__control:checked~label.sk-toggleable__label {\n",
       "  background-color: var(--sklearn-color-fitted-level-2);\n",
       "}\n",
       "\n",
       "/* Estimator-specific style */\n",
       "\n",
       "/* Colorize estimator box */\n",
       "#sk-container-id-2 div.sk-estimator input.sk-toggleable__control:checked~label.sk-toggleable__label {\n",
       "  /* unfitted */\n",
       "  background-color: var(--sklearn-color-unfitted-level-2);\n",
       "}\n",
       "\n",
       "#sk-container-id-2 div.sk-estimator.fitted input.sk-toggleable__control:checked~label.sk-toggleable__label {\n",
       "  /* fitted */\n",
       "  background-color: var(--sklearn-color-fitted-level-2);\n",
       "}\n",
       "\n",
       "#sk-container-id-2 div.sk-label label.sk-toggleable__label,\n",
       "#sk-container-id-2 div.sk-label label {\n",
       "  /* The background is the default theme color */\n",
       "  color: var(--sklearn-color-text-on-default-background);\n",
       "}\n",
       "\n",
       "/* On hover, darken the color of the background */\n",
       "#sk-container-id-2 div.sk-label:hover label.sk-toggleable__label {\n",
       "  color: var(--sklearn-color-text);\n",
       "  background-color: var(--sklearn-color-unfitted-level-2);\n",
       "}\n",
       "\n",
       "/* Label box, darken color on hover, fitted */\n",
       "#sk-container-id-2 div.sk-label.fitted:hover label.sk-toggleable__label.fitted {\n",
       "  color: var(--sklearn-color-text);\n",
       "  background-color: var(--sklearn-color-fitted-level-2);\n",
       "}\n",
       "\n",
       "/* Estimator label */\n",
       "\n",
       "#sk-container-id-2 div.sk-label label {\n",
       "  font-family: monospace;\n",
       "  font-weight: bold;\n",
       "  display: inline-block;\n",
       "  line-height: 1.2em;\n",
       "}\n",
       "\n",
       "#sk-container-id-2 div.sk-label-container {\n",
       "  text-align: center;\n",
       "}\n",
       "\n",
       "/* Estimator-specific */\n",
       "#sk-container-id-2 div.sk-estimator {\n",
       "  font-family: monospace;\n",
       "  border: 1px dotted var(--sklearn-color-border-box);\n",
       "  border-radius: 0.25em;\n",
       "  box-sizing: border-box;\n",
       "  margin-bottom: 0.5em;\n",
       "  /* unfitted */\n",
       "  background-color: var(--sklearn-color-unfitted-level-0);\n",
       "}\n",
       "\n",
       "#sk-container-id-2 div.sk-estimator.fitted {\n",
       "  /* fitted */\n",
       "  background-color: var(--sklearn-color-fitted-level-0);\n",
       "}\n",
       "\n",
       "/* on hover */\n",
       "#sk-container-id-2 div.sk-estimator:hover {\n",
       "  /* unfitted */\n",
       "  background-color: var(--sklearn-color-unfitted-level-2);\n",
       "}\n",
       "\n",
       "#sk-container-id-2 div.sk-estimator.fitted:hover {\n",
       "  /* fitted */\n",
       "  background-color: var(--sklearn-color-fitted-level-2);\n",
       "}\n",
       "\n",
       "/* Specification for estimator info (e.g. \"i\" and \"?\") */\n",
       "\n",
       "/* Common style for \"i\" and \"?\" */\n",
       "\n",
       ".sk-estimator-doc-link,\n",
       "a:link.sk-estimator-doc-link,\n",
       "a:visited.sk-estimator-doc-link {\n",
       "  float: right;\n",
       "  font-size: smaller;\n",
       "  line-height: 1em;\n",
       "  font-family: monospace;\n",
       "  background-color: var(--sklearn-color-background);\n",
       "  border-radius: 1em;\n",
       "  height: 1em;\n",
       "  width: 1em;\n",
       "  text-decoration: none !important;\n",
       "  margin-left: 1ex;\n",
       "  /* unfitted */\n",
       "  border: var(--sklearn-color-unfitted-level-1) 1pt solid;\n",
       "  color: var(--sklearn-color-unfitted-level-1);\n",
       "}\n",
       "\n",
       ".sk-estimator-doc-link.fitted,\n",
       "a:link.sk-estimator-doc-link.fitted,\n",
       "a:visited.sk-estimator-doc-link.fitted {\n",
       "  /* fitted */\n",
       "  border: var(--sklearn-color-fitted-level-1) 1pt solid;\n",
       "  color: var(--sklearn-color-fitted-level-1);\n",
       "}\n",
       "\n",
       "/* On hover */\n",
       "div.sk-estimator:hover .sk-estimator-doc-link:hover,\n",
       ".sk-estimator-doc-link:hover,\n",
       "div.sk-label-container:hover .sk-estimator-doc-link:hover,\n",
       ".sk-estimator-doc-link:hover {\n",
       "  /* unfitted */\n",
       "  background-color: var(--sklearn-color-unfitted-level-3);\n",
       "  color: var(--sklearn-color-background);\n",
       "  text-decoration: none;\n",
       "}\n",
       "\n",
       "div.sk-estimator.fitted:hover .sk-estimator-doc-link.fitted:hover,\n",
       ".sk-estimator-doc-link.fitted:hover,\n",
       "div.sk-label-container:hover .sk-estimator-doc-link.fitted:hover,\n",
       ".sk-estimator-doc-link.fitted:hover {\n",
       "  /* fitted */\n",
       "  background-color: var(--sklearn-color-fitted-level-3);\n",
       "  color: var(--sklearn-color-background);\n",
       "  text-decoration: none;\n",
       "}\n",
       "\n",
       "/* Span, style for the box shown on hovering the info icon */\n",
       ".sk-estimator-doc-link span {\n",
       "  display: none;\n",
       "  z-index: 9999;\n",
       "  position: relative;\n",
       "  font-weight: normal;\n",
       "  right: .2ex;\n",
       "  padding: .5ex;\n",
       "  margin: .5ex;\n",
       "  width: min-content;\n",
       "  min-width: 20ex;\n",
       "  max-width: 50ex;\n",
       "  color: var(--sklearn-color-text);\n",
       "  box-shadow: 2pt 2pt 4pt #999;\n",
       "  /* unfitted */\n",
       "  background: var(--sklearn-color-unfitted-level-0);\n",
       "  border: .5pt solid var(--sklearn-color-unfitted-level-3);\n",
       "}\n",
       "\n",
       ".sk-estimator-doc-link.fitted span {\n",
       "  /* fitted */\n",
       "  background: var(--sklearn-color-fitted-level-0);\n",
       "  border: var(--sklearn-color-fitted-level-3);\n",
       "}\n",
       "\n",
       ".sk-estimator-doc-link:hover span {\n",
       "  display: block;\n",
       "}\n",
       "\n",
       "/* \"?\"-specific style due to the `<a>` HTML tag */\n",
       "\n",
       "#sk-container-id-2 a.estimator_doc_link {\n",
       "  float: right;\n",
       "  font-size: 1rem;\n",
       "  line-height: 1em;\n",
       "  font-family: monospace;\n",
       "  background-color: var(--sklearn-color-background);\n",
       "  border-radius: 1rem;\n",
       "  height: 1rem;\n",
       "  width: 1rem;\n",
       "  text-decoration: none;\n",
       "  /* unfitted */\n",
       "  color: var(--sklearn-color-unfitted-level-1);\n",
       "  border: var(--sklearn-color-unfitted-level-1) 1pt solid;\n",
       "}\n",
       "\n",
       "#sk-container-id-2 a.estimator_doc_link.fitted {\n",
       "  /* fitted */\n",
       "  border: var(--sklearn-color-fitted-level-1) 1pt solid;\n",
       "  color: var(--sklearn-color-fitted-level-1);\n",
       "}\n",
       "\n",
       "/* On hover */\n",
       "#sk-container-id-2 a.estimator_doc_link:hover {\n",
       "  /* unfitted */\n",
       "  background-color: var(--sklearn-color-unfitted-level-3);\n",
       "  color: var(--sklearn-color-background);\n",
       "  text-decoration: none;\n",
       "}\n",
       "\n",
       "#sk-container-id-2 a.estimator_doc_link.fitted:hover {\n",
       "  /* fitted */\n",
       "  background-color: var(--sklearn-color-fitted-level-3);\n",
       "}\n",
       "</style><div id=\"sk-container-id-2\" class=\"sk-top-container\"><div class=\"sk-text-repr-fallback\"><pre>LogisticRegression(max_iter=650)</pre><b>In a Jupyter environment, please rerun this cell to show the HTML representation or trust the notebook. <br />On GitHub, the HTML representation is unable to render, please try loading this page with nbviewer.org.</b></div><div class=\"sk-container\" hidden><div class=\"sk-item\"><div class=\"sk-estimator fitted sk-toggleable\"><input class=\"sk-toggleable__control sk-hidden--visually\" id=\"sk-estimator-id-2\" type=\"checkbox\" checked><label for=\"sk-estimator-id-2\" class=\"sk-toggleable__label fitted sk-toggleable__label-arrow fitted\">&nbsp;&nbsp;LogisticRegression<a class=\"sk-estimator-doc-link fitted\" rel=\"noreferrer\" target=\"_blank\" href=\"https://scikit-learn.org/1.5/modules/generated/sklearn.linear_model.LogisticRegression.html\">?<span>Documentation for LogisticRegression</span></a><span class=\"sk-estimator-doc-link fitted\">i<span>Fitted</span></span></label><div class=\"sk-toggleable__content fitted\"><pre>LogisticRegression(max_iter=650)</pre></div> </div></div></div></div>"
      ],
      "text/plain": [
       "LogisticRegression(max_iter=650)"
      ]
     },
     "execution_count": 16,
     "metadata": {},
     "output_type": "execute_result"
    }
   ],
   "source": [
    "# training logistic regression model\n",
    "classifier = LogisticRegression(max_iter=650)\n",
    "classifier.fit(X_train, y_train)"
   ]
  },
  {
   "cell_type": "code",
   "execution_count": 17,
   "id": "a0cadc86",
   "metadata": {
    "execution": {
     "iopub.execute_input": "2024-04-16T17:39:55.715975Z",
     "iopub.status.busy": "2024-04-16T17:39:55.714758Z",
     "iopub.status.idle": "2024-04-16T17:39:55.727715Z",
     "shell.execute_reply": "2024-04-16T17:39:55.726355Z"
    },
    "executionInfo": {
     "elapsed": 4,
     "status": "ok",
     "timestamp": 1707139749953,
     "user": {
      "displayName": "Raghav Nyati",
      "userId": "06258339677951759314"
     },
     "user_tz": -330
    },
    "id": "35c33686-bf8a-4366-8ff3-d9ca82b1b771",
    "papermill": {
     "duration": 0.055722,
     "end_time": "2024-04-16T17:39:55.731887",
     "exception": false,
     "start_time": "2024-04-16T17:39:55.676165",
     "status": "completed"
    },
    "tags": []
   },
   "outputs": [],
   "source": [
    "y_pred_proba = classifier.predict_proba(X_test)[:, 1]"
   ]
  },
  {
   "cell_type": "code",
   "execution_count": 18,
   "id": "5341254d",
   "metadata": {
    "execution": {
     "iopub.execute_input": "2024-04-16T17:39:55.773732Z",
     "iopub.status.busy": "2024-04-16T17:39:55.773274Z",
     "iopub.status.idle": "2024-04-16T17:39:55.784739Z",
     "shell.execute_reply": "2024-04-16T17:39:55.783323Z"
    },
    "executionInfo": {
     "elapsed": 4,
     "status": "ok",
     "timestamp": 1707139749954,
     "user": {
      "displayName": "Raghav Nyati",
      "userId": "06258339677951759314"
     },
     "user_tz": -330
    },
    "id": "1c72e2bc-0a0d-476b-a4a0-1a54c5ba6368",
    "outputId": "7c406d12-f832-4185-add2-675337cb461d",
    "papermill": {
     "duration": 0.031834,
     "end_time": "2024-04-16T17:39:55.787736",
     "exception": false,
     "start_time": "2024-04-16T17:39:55.755902",
     "status": "completed"
    },
    "tags": []
   },
   "outputs": [
    {
     "name": "stdout",
     "output_type": "stream",
     "text": [
      "Metrics test:\n",
      "\tAccuracy score: 0.8478\n"
     ]
    }
   ],
   "source": [
    "print(f\"Metrics test:\\n\\tAccuracy score: {accuracy_score(classifier.predict(X_test), y_test):.4f}\")"
   ]
  },
  {
   "cell_type": "code",
   "execution_count": 19,
   "id": "be3987d1",
   "metadata": {
    "execution": {
     "iopub.execute_input": "2024-04-16T17:39:55.824764Z",
     "iopub.status.busy": "2024-04-16T17:39:55.824321Z",
     "iopub.status.idle": "2024-04-16T17:39:55.835956Z",
     "shell.execute_reply": "2024-04-16T17:39:55.834597Z"
    },
    "papermill": {
     "duration": 0.033632,
     "end_time": "2024-04-16T17:39:55.838672",
     "exception": false,
     "start_time": "2024-04-16T17:39:55.805040",
     "status": "completed"
    },
    "tags": []
   },
   "outputs": [],
   "source": [
    "fpr_lr, tpr_lr, thresholds_lr = roc_curve(y_test, y_pred_proba)\n",
    "auc_lr = roc_auc_score(y_test, y_pred_proba)"
   ]
  },
  {
   "cell_type": "markdown",
   "id": "6f2da167",
   "metadata": {
    "papermill": {
     "duration": 0.016123,
     "end_time": "2024-04-16T17:39:55.871414",
     "exception": false,
     "start_time": "2024-04-16T17:39:55.855291",
     "status": "completed"
    },
    "tags": []
   },
   "source": [
    "# SVM "
   ]
  },
  {
   "cell_type": "code",
   "execution_count": 20,
   "id": "00cfc4ce",
   "metadata": {
    "execution": {
     "iopub.execute_input": "2024-04-16T17:39:55.906325Z",
     "iopub.status.busy": "2024-04-16T17:39:55.905842Z",
     "iopub.status.idle": "2024-04-16T17:39:55.921950Z",
     "shell.execute_reply": "2024-04-16T17:39:55.920626Z"
    },
    "papermill": {
     "duration": 0.037304,
     "end_time": "2024-04-16T17:39:55.924963",
     "exception": false,
     "start_time": "2024-04-16T17:39:55.887659",
     "status": "completed"
    },
    "tags": []
   },
   "outputs": [],
   "source": [
    "scaler = StandardScaler()\n",
    "X_train_normalized = scaler.fit_transform(X_train)\n",
    "X_test_normalized = scaler.transform(X_test)"
   ]
  },
  {
   "cell_type": "code",
   "execution_count": 21,
   "id": "5a07ecd9",
   "metadata": {
    "execution": {
     "iopub.execute_input": "2024-04-16T17:39:55.960212Z",
     "iopub.status.busy": "2024-04-16T17:39:55.959651Z",
     "iopub.status.idle": "2024-04-16T17:39:56.025522Z",
     "shell.execute_reply": "2024-04-16T17:39:56.024262Z"
    },
    "papermill": {
     "duration": 0.086992,
     "end_time": "2024-04-16T17:39:56.028295",
     "exception": false,
     "start_time": "2024-04-16T17:39:55.941303",
     "status": "completed"
    },
    "tags": []
   },
   "outputs": [
    {
     "data": {
      "text/html": [
       "<style>#sk-container-id-3 {\n",
       "  /* Definition of color scheme common for light and dark mode */\n",
       "  --sklearn-color-text: black;\n",
       "  --sklearn-color-line: gray;\n",
       "  /* Definition of color scheme for unfitted estimators */\n",
       "  --sklearn-color-unfitted-level-0: #fff5e6;\n",
       "  --sklearn-color-unfitted-level-1: #f6e4d2;\n",
       "  --sklearn-color-unfitted-level-2: #ffe0b3;\n",
       "  --sklearn-color-unfitted-level-3: chocolate;\n",
       "  /* Definition of color scheme for fitted estimators */\n",
       "  --sklearn-color-fitted-level-0: #f0f8ff;\n",
       "  --sklearn-color-fitted-level-1: #d4ebff;\n",
       "  --sklearn-color-fitted-level-2: #b3dbfd;\n",
       "  --sklearn-color-fitted-level-3: cornflowerblue;\n",
       "\n",
       "  /* Specific color for light theme */\n",
       "  --sklearn-color-text-on-default-background: var(--sg-text-color, var(--theme-code-foreground, var(--jp-content-font-color1, black)));\n",
       "  --sklearn-color-background: var(--sg-background-color, var(--theme-background, var(--jp-layout-color0, white)));\n",
       "  --sklearn-color-border-box: var(--sg-text-color, var(--theme-code-foreground, var(--jp-content-font-color1, black)));\n",
       "  --sklearn-color-icon: #696969;\n",
       "\n",
       "  @media (prefers-color-scheme: dark) {\n",
       "    /* Redefinition of color scheme for dark theme */\n",
       "    --sklearn-color-text-on-default-background: var(--sg-text-color, var(--theme-code-foreground, var(--jp-content-font-color1, white)));\n",
       "    --sklearn-color-background: var(--sg-background-color, var(--theme-background, var(--jp-layout-color0, #111)));\n",
       "    --sklearn-color-border-box: var(--sg-text-color, var(--theme-code-foreground, var(--jp-content-font-color1, white)));\n",
       "    --sklearn-color-icon: #878787;\n",
       "  }\n",
       "}\n",
       "\n",
       "#sk-container-id-3 {\n",
       "  color: var(--sklearn-color-text);\n",
       "}\n",
       "\n",
       "#sk-container-id-3 pre {\n",
       "  padding: 0;\n",
       "}\n",
       "\n",
       "#sk-container-id-3 input.sk-hidden--visually {\n",
       "  border: 0;\n",
       "  clip: rect(1px 1px 1px 1px);\n",
       "  clip: rect(1px, 1px, 1px, 1px);\n",
       "  height: 1px;\n",
       "  margin: -1px;\n",
       "  overflow: hidden;\n",
       "  padding: 0;\n",
       "  position: absolute;\n",
       "  width: 1px;\n",
       "}\n",
       "\n",
       "#sk-container-id-3 div.sk-dashed-wrapped {\n",
       "  border: 1px dashed var(--sklearn-color-line);\n",
       "  margin: 0 0.4em 0.5em 0.4em;\n",
       "  box-sizing: border-box;\n",
       "  padding-bottom: 0.4em;\n",
       "  background-color: var(--sklearn-color-background);\n",
       "}\n",
       "\n",
       "#sk-container-id-3 div.sk-container {\n",
       "  /* jupyter's `normalize.less` sets `[hidden] { display: none; }`\n",
       "     but bootstrap.min.css set `[hidden] { display: none !important; }`\n",
       "     so we also need the `!important` here to be able to override the\n",
       "     default hidden behavior on the sphinx rendered scikit-learn.org.\n",
       "     See: https://github.com/scikit-learn/scikit-learn/issues/21755 */\n",
       "  display: inline-block !important;\n",
       "  position: relative;\n",
       "}\n",
       "\n",
       "#sk-container-id-3 div.sk-text-repr-fallback {\n",
       "  display: none;\n",
       "}\n",
       "\n",
       "div.sk-parallel-item,\n",
       "div.sk-serial,\n",
       "div.sk-item {\n",
       "  /* draw centered vertical line to link estimators */\n",
       "  background-image: linear-gradient(var(--sklearn-color-text-on-default-background), var(--sklearn-color-text-on-default-background));\n",
       "  background-size: 2px 100%;\n",
       "  background-repeat: no-repeat;\n",
       "  background-position: center center;\n",
       "}\n",
       "\n",
       "/* Parallel-specific style estimator block */\n",
       "\n",
       "#sk-container-id-3 div.sk-parallel-item::after {\n",
       "  content: \"\";\n",
       "  width: 100%;\n",
       "  border-bottom: 2px solid var(--sklearn-color-text-on-default-background);\n",
       "  flex-grow: 1;\n",
       "}\n",
       "\n",
       "#sk-container-id-3 div.sk-parallel {\n",
       "  display: flex;\n",
       "  align-items: stretch;\n",
       "  justify-content: center;\n",
       "  background-color: var(--sklearn-color-background);\n",
       "  position: relative;\n",
       "}\n",
       "\n",
       "#sk-container-id-3 div.sk-parallel-item {\n",
       "  display: flex;\n",
       "  flex-direction: column;\n",
       "}\n",
       "\n",
       "#sk-container-id-3 div.sk-parallel-item:first-child::after {\n",
       "  align-self: flex-end;\n",
       "  width: 50%;\n",
       "}\n",
       "\n",
       "#sk-container-id-3 div.sk-parallel-item:last-child::after {\n",
       "  align-self: flex-start;\n",
       "  width: 50%;\n",
       "}\n",
       "\n",
       "#sk-container-id-3 div.sk-parallel-item:only-child::after {\n",
       "  width: 0;\n",
       "}\n",
       "\n",
       "/* Serial-specific style estimator block */\n",
       "\n",
       "#sk-container-id-3 div.sk-serial {\n",
       "  display: flex;\n",
       "  flex-direction: column;\n",
       "  align-items: center;\n",
       "  background-color: var(--sklearn-color-background);\n",
       "  padding-right: 1em;\n",
       "  padding-left: 1em;\n",
       "}\n",
       "\n",
       "\n",
       "/* Toggleable style: style used for estimator/Pipeline/ColumnTransformer box that is\n",
       "clickable and can be expanded/collapsed.\n",
       "- Pipeline and ColumnTransformer use this feature and define the default style\n",
       "- Estimators will overwrite some part of the style using the `sk-estimator` class\n",
       "*/\n",
       "\n",
       "/* Pipeline and ColumnTransformer style (default) */\n",
       "\n",
       "#sk-container-id-3 div.sk-toggleable {\n",
       "  /* Default theme specific background. It is overwritten whether we have a\n",
       "  specific estimator or a Pipeline/ColumnTransformer */\n",
       "  background-color: var(--sklearn-color-background);\n",
       "}\n",
       "\n",
       "/* Toggleable label */\n",
       "#sk-container-id-3 label.sk-toggleable__label {\n",
       "  cursor: pointer;\n",
       "  display: block;\n",
       "  width: 100%;\n",
       "  margin-bottom: 0;\n",
       "  padding: 0.5em;\n",
       "  box-sizing: border-box;\n",
       "  text-align: center;\n",
       "}\n",
       "\n",
       "#sk-container-id-3 label.sk-toggleable__label-arrow:before {\n",
       "  /* Arrow on the left of the label */\n",
       "  content: \"▸\";\n",
       "  float: left;\n",
       "  margin-right: 0.25em;\n",
       "  color: var(--sklearn-color-icon);\n",
       "}\n",
       "\n",
       "#sk-container-id-3 label.sk-toggleable__label-arrow:hover:before {\n",
       "  color: var(--sklearn-color-text);\n",
       "}\n",
       "\n",
       "/* Toggleable content - dropdown */\n",
       "\n",
       "#sk-container-id-3 div.sk-toggleable__content {\n",
       "  max-height: 0;\n",
       "  max-width: 0;\n",
       "  overflow: hidden;\n",
       "  text-align: left;\n",
       "  /* unfitted */\n",
       "  background-color: var(--sklearn-color-unfitted-level-0);\n",
       "}\n",
       "\n",
       "#sk-container-id-3 div.sk-toggleable__content.fitted {\n",
       "  /* fitted */\n",
       "  background-color: var(--sklearn-color-fitted-level-0);\n",
       "}\n",
       "\n",
       "#sk-container-id-3 div.sk-toggleable__content pre {\n",
       "  margin: 0.2em;\n",
       "  border-radius: 0.25em;\n",
       "  color: var(--sklearn-color-text);\n",
       "  /* unfitted */\n",
       "  background-color: var(--sklearn-color-unfitted-level-0);\n",
       "}\n",
       "\n",
       "#sk-container-id-3 div.sk-toggleable__content.fitted pre {\n",
       "  /* unfitted */\n",
       "  background-color: var(--sklearn-color-fitted-level-0);\n",
       "}\n",
       "\n",
       "#sk-container-id-3 input.sk-toggleable__control:checked~div.sk-toggleable__content {\n",
       "  /* Expand drop-down */\n",
       "  max-height: 200px;\n",
       "  max-width: 100%;\n",
       "  overflow: auto;\n",
       "}\n",
       "\n",
       "#sk-container-id-3 input.sk-toggleable__control:checked~label.sk-toggleable__label-arrow:before {\n",
       "  content: \"▾\";\n",
       "}\n",
       "\n",
       "/* Pipeline/ColumnTransformer-specific style */\n",
       "\n",
       "#sk-container-id-3 div.sk-label input.sk-toggleable__control:checked~label.sk-toggleable__label {\n",
       "  color: var(--sklearn-color-text);\n",
       "  background-color: var(--sklearn-color-unfitted-level-2);\n",
       "}\n",
       "\n",
       "#sk-container-id-3 div.sk-label.fitted input.sk-toggleable__control:checked~label.sk-toggleable__label {\n",
       "  background-color: var(--sklearn-color-fitted-level-2);\n",
       "}\n",
       "\n",
       "/* Estimator-specific style */\n",
       "\n",
       "/* Colorize estimator box */\n",
       "#sk-container-id-3 div.sk-estimator input.sk-toggleable__control:checked~label.sk-toggleable__label {\n",
       "  /* unfitted */\n",
       "  background-color: var(--sklearn-color-unfitted-level-2);\n",
       "}\n",
       "\n",
       "#sk-container-id-3 div.sk-estimator.fitted input.sk-toggleable__control:checked~label.sk-toggleable__label {\n",
       "  /* fitted */\n",
       "  background-color: var(--sklearn-color-fitted-level-2);\n",
       "}\n",
       "\n",
       "#sk-container-id-3 div.sk-label label.sk-toggleable__label,\n",
       "#sk-container-id-3 div.sk-label label {\n",
       "  /* The background is the default theme color */\n",
       "  color: var(--sklearn-color-text-on-default-background);\n",
       "}\n",
       "\n",
       "/* On hover, darken the color of the background */\n",
       "#sk-container-id-3 div.sk-label:hover label.sk-toggleable__label {\n",
       "  color: var(--sklearn-color-text);\n",
       "  background-color: var(--sklearn-color-unfitted-level-2);\n",
       "}\n",
       "\n",
       "/* Label box, darken color on hover, fitted */\n",
       "#sk-container-id-3 div.sk-label.fitted:hover label.sk-toggleable__label.fitted {\n",
       "  color: var(--sklearn-color-text);\n",
       "  background-color: var(--sklearn-color-fitted-level-2);\n",
       "}\n",
       "\n",
       "/* Estimator label */\n",
       "\n",
       "#sk-container-id-3 div.sk-label label {\n",
       "  font-family: monospace;\n",
       "  font-weight: bold;\n",
       "  display: inline-block;\n",
       "  line-height: 1.2em;\n",
       "}\n",
       "\n",
       "#sk-container-id-3 div.sk-label-container {\n",
       "  text-align: center;\n",
       "}\n",
       "\n",
       "/* Estimator-specific */\n",
       "#sk-container-id-3 div.sk-estimator {\n",
       "  font-family: monospace;\n",
       "  border: 1px dotted var(--sklearn-color-border-box);\n",
       "  border-radius: 0.25em;\n",
       "  box-sizing: border-box;\n",
       "  margin-bottom: 0.5em;\n",
       "  /* unfitted */\n",
       "  background-color: var(--sklearn-color-unfitted-level-0);\n",
       "}\n",
       "\n",
       "#sk-container-id-3 div.sk-estimator.fitted {\n",
       "  /* fitted */\n",
       "  background-color: var(--sklearn-color-fitted-level-0);\n",
       "}\n",
       "\n",
       "/* on hover */\n",
       "#sk-container-id-3 div.sk-estimator:hover {\n",
       "  /* unfitted */\n",
       "  background-color: var(--sklearn-color-unfitted-level-2);\n",
       "}\n",
       "\n",
       "#sk-container-id-3 div.sk-estimator.fitted:hover {\n",
       "  /* fitted */\n",
       "  background-color: var(--sklearn-color-fitted-level-2);\n",
       "}\n",
       "\n",
       "/* Specification for estimator info (e.g. \"i\" and \"?\") */\n",
       "\n",
       "/* Common style for \"i\" and \"?\" */\n",
       "\n",
       ".sk-estimator-doc-link,\n",
       "a:link.sk-estimator-doc-link,\n",
       "a:visited.sk-estimator-doc-link {\n",
       "  float: right;\n",
       "  font-size: smaller;\n",
       "  line-height: 1em;\n",
       "  font-family: monospace;\n",
       "  background-color: var(--sklearn-color-background);\n",
       "  border-radius: 1em;\n",
       "  height: 1em;\n",
       "  width: 1em;\n",
       "  text-decoration: none !important;\n",
       "  margin-left: 1ex;\n",
       "  /* unfitted */\n",
       "  border: var(--sklearn-color-unfitted-level-1) 1pt solid;\n",
       "  color: var(--sklearn-color-unfitted-level-1);\n",
       "}\n",
       "\n",
       ".sk-estimator-doc-link.fitted,\n",
       "a:link.sk-estimator-doc-link.fitted,\n",
       "a:visited.sk-estimator-doc-link.fitted {\n",
       "  /* fitted */\n",
       "  border: var(--sklearn-color-fitted-level-1) 1pt solid;\n",
       "  color: var(--sklearn-color-fitted-level-1);\n",
       "}\n",
       "\n",
       "/* On hover */\n",
       "div.sk-estimator:hover .sk-estimator-doc-link:hover,\n",
       ".sk-estimator-doc-link:hover,\n",
       "div.sk-label-container:hover .sk-estimator-doc-link:hover,\n",
       ".sk-estimator-doc-link:hover {\n",
       "  /* unfitted */\n",
       "  background-color: var(--sklearn-color-unfitted-level-3);\n",
       "  color: var(--sklearn-color-background);\n",
       "  text-decoration: none;\n",
       "}\n",
       "\n",
       "div.sk-estimator.fitted:hover .sk-estimator-doc-link.fitted:hover,\n",
       ".sk-estimator-doc-link.fitted:hover,\n",
       "div.sk-label-container:hover .sk-estimator-doc-link.fitted:hover,\n",
       ".sk-estimator-doc-link.fitted:hover {\n",
       "  /* fitted */\n",
       "  background-color: var(--sklearn-color-fitted-level-3);\n",
       "  color: var(--sklearn-color-background);\n",
       "  text-decoration: none;\n",
       "}\n",
       "\n",
       "/* Span, style for the box shown on hovering the info icon */\n",
       ".sk-estimator-doc-link span {\n",
       "  display: none;\n",
       "  z-index: 9999;\n",
       "  position: relative;\n",
       "  font-weight: normal;\n",
       "  right: .2ex;\n",
       "  padding: .5ex;\n",
       "  margin: .5ex;\n",
       "  width: min-content;\n",
       "  min-width: 20ex;\n",
       "  max-width: 50ex;\n",
       "  color: var(--sklearn-color-text);\n",
       "  box-shadow: 2pt 2pt 4pt #999;\n",
       "  /* unfitted */\n",
       "  background: var(--sklearn-color-unfitted-level-0);\n",
       "  border: .5pt solid var(--sklearn-color-unfitted-level-3);\n",
       "}\n",
       "\n",
       ".sk-estimator-doc-link.fitted span {\n",
       "  /* fitted */\n",
       "  background: var(--sklearn-color-fitted-level-0);\n",
       "  border: var(--sklearn-color-fitted-level-3);\n",
       "}\n",
       "\n",
       ".sk-estimator-doc-link:hover span {\n",
       "  display: block;\n",
       "}\n",
       "\n",
       "/* \"?\"-specific style due to the `<a>` HTML tag */\n",
       "\n",
       "#sk-container-id-3 a.estimator_doc_link {\n",
       "  float: right;\n",
       "  font-size: 1rem;\n",
       "  line-height: 1em;\n",
       "  font-family: monospace;\n",
       "  background-color: var(--sklearn-color-background);\n",
       "  border-radius: 1rem;\n",
       "  height: 1rem;\n",
       "  width: 1rem;\n",
       "  text-decoration: none;\n",
       "  /* unfitted */\n",
       "  color: var(--sklearn-color-unfitted-level-1);\n",
       "  border: var(--sklearn-color-unfitted-level-1) 1pt solid;\n",
       "}\n",
       "\n",
       "#sk-container-id-3 a.estimator_doc_link.fitted {\n",
       "  /* fitted */\n",
       "  border: var(--sklearn-color-fitted-level-1) 1pt solid;\n",
       "  color: var(--sklearn-color-fitted-level-1);\n",
       "}\n",
       "\n",
       "/* On hover */\n",
       "#sk-container-id-3 a.estimator_doc_link:hover {\n",
       "  /* unfitted */\n",
       "  background-color: var(--sklearn-color-unfitted-level-3);\n",
       "  color: var(--sklearn-color-background);\n",
       "  text-decoration: none;\n",
       "}\n",
       "\n",
       "#sk-container-id-3 a.estimator_doc_link.fitted:hover {\n",
       "  /* fitted */\n",
       "  background-color: var(--sklearn-color-fitted-level-3);\n",
       "}\n",
       "</style><div id=\"sk-container-id-3\" class=\"sk-top-container\"><div class=\"sk-text-repr-fallback\"><pre>SVC(kernel=&#x27;linear&#x27;, random_state=75)</pre><b>In a Jupyter environment, please rerun this cell to show the HTML representation or trust the notebook. <br />On GitHub, the HTML representation is unable to render, please try loading this page with nbviewer.org.</b></div><div class=\"sk-container\" hidden><div class=\"sk-item\"><div class=\"sk-estimator fitted sk-toggleable\"><input class=\"sk-toggleable__control sk-hidden--visually\" id=\"sk-estimator-id-3\" type=\"checkbox\" checked><label for=\"sk-estimator-id-3\" class=\"sk-toggleable__label fitted sk-toggleable__label-arrow fitted\">&nbsp;&nbsp;SVC<a class=\"sk-estimator-doc-link fitted\" rel=\"noreferrer\" target=\"_blank\" href=\"https://scikit-learn.org/1.5/modules/generated/sklearn.svm.SVC.html\">?<span>Documentation for SVC</span></a><span class=\"sk-estimator-doc-link fitted\">i<span>Fitted</span></span></label><div class=\"sk-toggleable__content fitted\"><pre>SVC(kernel=&#x27;linear&#x27;, random_state=75)</pre></div> </div></div></div></div>"
      ],
      "text/plain": [
       "SVC(kernel='linear', random_state=75)"
      ]
     },
     "execution_count": 21,
     "metadata": {},
     "output_type": "execute_result"
    }
   ],
   "source": [
    "svm_classifier = SVC(kernel='linear', C=1.0, random_state=RANDOM_STATE)\n",
    "svm_classifier.fit(X_train_normalized, y_train)"
   ]
  },
  {
   "cell_type": "code",
   "execution_count": 22,
   "id": "62323b05",
   "metadata": {
    "execution": {
     "iopub.execute_input": "2024-04-16T17:39:56.063567Z",
     "iopub.status.busy": "2024-04-16T17:39:56.062656Z",
     "iopub.status.idle": "2024-04-16T17:39:56.072357Z",
     "shell.execute_reply": "2024-04-16T17:39:56.071352Z"
    },
    "papermill": {
     "duration": 0.030628,
     "end_time": "2024-04-16T17:39:56.075298",
     "exception": false,
     "start_time": "2024-04-16T17:39:56.044670",
     "status": "completed"
    },
    "tags": []
   },
   "outputs": [],
   "source": [
    "y_pred_proba_svm = svm_classifier.decision_function(X_test_normalized)"
   ]
  },
  {
   "cell_type": "code",
   "execution_count": 23,
   "id": "5cd2d534",
   "metadata": {
    "execution": {
     "iopub.execute_input": "2024-04-16T17:39:56.111247Z",
     "iopub.status.busy": "2024-04-16T17:39:56.110782Z",
     "iopub.status.idle": "2024-04-16T17:39:56.123292Z",
     "shell.execute_reply": "2024-04-16T17:39:56.122086Z"
    },
    "papermill": {
     "duration": 0.033541,
     "end_time": "2024-04-16T17:39:56.125837",
     "exception": false,
     "start_time": "2024-04-16T17:39:56.092296",
     "status": "completed"
    },
    "tags": []
   },
   "outputs": [
    {
     "name": "stdout",
     "output_type": "stream",
     "text": [
      "SVM Metrics test:\n",
      "\tAccuracy score: 0.8478\n"
     ]
    }
   ],
   "source": [
    "print(f\"SVM Metrics test:\\n\\tAccuracy score: {accuracy_score(svm_classifier.predict(X_test_normalized), y_test):.4f}\")"
   ]
  },
  {
   "cell_type": "code",
   "execution_count": 24,
   "id": "24627b10",
   "metadata": {
    "execution": {
     "iopub.execute_input": "2024-04-16T17:39:56.162103Z",
     "iopub.status.busy": "2024-04-16T17:39:56.160676Z",
     "iopub.status.idle": "2024-04-16T17:39:56.170560Z",
     "shell.execute_reply": "2024-04-16T17:39:56.169070Z"
    },
    "papermill": {
     "duration": 0.0309,
     "end_time": "2024-04-16T17:39:56.173471",
     "exception": false,
     "start_time": "2024-04-16T17:39:56.142571",
     "status": "completed"
    },
    "tags": []
   },
   "outputs": [],
   "source": [
    "fpr_svm, tpr_svm, thresholds_svm = roc_curve(y_test, y_pred_proba_svm)\n",
    "auc_svm = roc_auc_score(y_test, y_pred_proba_svm)"
   ]
  },
  {
   "cell_type": "markdown",
   "id": "04dba29b",
   "metadata": {
    "id": "6c1f28be-d96d-4cab-8de0-e2f226169ccb",
    "papermill": {
     "duration": 0.018685,
     "end_time": "2024-04-16T17:39:56.750215",
     "exception": false,
     "start_time": "2024-04-16T17:39:56.731530",
     "status": "completed"
    },
    "tags": []
   },
   "source": [
    "# ROC Curve\n"
   ]
  },
  {
   "cell_type": "code",
   "execution_count": 25,
   "id": "6c1a3b17",
   "metadata": {
    "execution": {
     "iopub.execute_input": "2024-04-16T17:39:56.949450Z",
     "iopub.status.busy": "2024-04-16T17:39:56.949014Z",
     "iopub.status.idle": "2024-04-16T17:39:56.955161Z",
     "shell.execute_reply": "2024-04-16T17:39:56.953869Z"
    },
    "papermill": {
     "duration": 0.027362,
     "end_time": "2024-04-16T17:39:56.957657",
     "exception": false,
     "start_time": "2024-04-16T17:39:56.930295",
     "status": "completed"
    },
    "tags": []
   },
   "outputs": [],
   "source": [
    "trace_xgb = go.Scatter(\n",
    "    x=fpr_xgb,\n",
    "    y=tpr_xgb,\n",
    "    mode='lines',\n",
    "    name=f'XGB (Area = {auc_xgb:.2f})'\n",
    ")"
   ]
  },
  {
   "cell_type": "code",
   "execution_count": 26,
   "id": "054b6621",
   "metadata": {
    "execution": {
     "iopub.execute_input": "2024-04-16T17:39:56.996469Z",
     "iopub.status.busy": "2024-04-16T17:39:56.995183Z",
     "iopub.status.idle": "2024-04-16T17:39:57.002371Z",
     "shell.execute_reply": "2024-04-16T17:39:57.000945Z"
    },
    "executionInfo": {
     "elapsed": 7,
     "status": "ok",
     "timestamp": 1707139755741,
     "user": {
      "displayName": "Raghav Nyati",
      "userId": "06258339677951759314"
     },
     "user_tz": -330
    },
    "id": "45f24aec-e312-4059-842b-01eacb669553",
    "outputId": "82593809-aa98-40a0-f2e8-4feb9eee5161",
    "papermill": {
     "duration": 0.030044,
     "end_time": "2024-04-16T17:39:57.005242",
     "exception": false,
     "start_time": "2024-04-16T17:39:56.975198",
     "status": "completed"
    },
    "tags": []
   },
   "outputs": [],
   "source": [
    "trace_lr = go.Scatter(\n",
    "    x=fpr_lr,\n",
    "    y=tpr_lr,\n",
    "    mode='lines',\n",
    "    name=f'Logistic Regression (Area = {auc_lr:.2f})'\n",
    ")\n"
   ]
  },
  {
   "cell_type": "code",
   "execution_count": 27,
   "id": "e1c1184e",
   "metadata": {
    "execution": {
     "iopub.execute_input": "2024-04-16T17:39:57.041473Z",
     "iopub.status.busy": "2024-04-16T17:39:57.040966Z",
     "iopub.status.idle": "2024-04-16T17:39:57.047418Z",
     "shell.execute_reply": "2024-04-16T17:39:57.046081Z"
    },
    "papermill": {
     "duration": 0.027486,
     "end_time": "2024-04-16T17:39:57.049827",
     "exception": false,
     "start_time": "2024-04-16T17:39:57.022341",
     "status": "completed"
    },
    "tags": []
   },
   "outputs": [],
   "source": [
    "trace_svm = go.Scatter(\n",
    "    x=fpr_svm,\n",
    "    y=tpr_svm,\n",
    "    mode='lines',\n",
    "    name=f'SVM (Area = {auc_svm:.2f})'\n",
    ")\n"
   ]
  },
  {
   "cell_type": "code",
   "execution_count": 28,
   "id": "63b0cadd",
   "metadata": {
    "execution": {
     "iopub.execute_input": "2024-04-16T17:39:57.086031Z",
     "iopub.status.busy": "2024-04-16T17:39:57.085557Z",
     "iopub.status.idle": "2024-04-16T17:39:57.106558Z",
     "shell.execute_reply": "2024-04-16T17:39:57.105603Z"
    },
    "papermill": {
     "duration": 0.042654,
     "end_time": "2024-04-16T17:39:57.109278",
     "exception": false,
     "start_time": "2024-04-16T17:39:57.066624",
     "status": "completed"
    },
    "tags": []
   },
   "outputs": [],
   "source": [
    "# Diagonal line\n",
    "trace_random = go.Scatter(\n",
    "    x=[0, 1],\n",
    "    y=[0, 1],\n",
    "    mode='lines',\n",
    "    name='Random (Area = 0.5)',\n",
    "    line=dict(dash='dash')\n",
    ")"
   ]
  },
  {
   "cell_type": "code",
   "execution_count": 29,
   "id": "7580e688",
   "metadata": {
    "execution": {
     "iopub.execute_input": "2024-04-16T17:39:57.146414Z",
     "iopub.status.busy": "2024-04-16T17:39:57.145616Z",
     "iopub.status.idle": "2024-04-16T17:39:57.628242Z",
     "shell.execute_reply": "2024-04-16T17:39:57.626743Z"
    },
    "papermill": {
     "duration": 0.504851,
     "end_time": "2024-04-16T17:39:57.631222",
     "exception": false,
     "start_time": "2024-04-16T17:39:57.126371",
     "status": "completed"
    },
    "tags": []
   },
   "outputs": [
    {
     "data": {
      "application/vnd.plotly.v1+json": {
       "config": {
        "plotlyServerURL": "https://plot.ly"
       },
       "data": [
        {
         "mode": "lines",
         "name": "XGB (Area = 0.94)",
         "type": "scatter",
         "x": [
          0,
          0,
          0,
          0,
          0,
          0.1111111111111111,
          0.1111111111111111,
          0.3333333333333333,
          0.3333333333333333,
          0.4444444444444444,
          0.4444444444444444,
          0.6666666666666666,
          0.8888888888888888,
          0.8888888888888888,
          1
         ],
         "y": [
          0,
          0.02702702702702703,
          0.5675675675675675,
          0.6486486486486487,
          0.8108108108108109,
          0.8108108108108109,
          0.918918918918919,
          0.918918918918919,
          0.9459459459459459,
          0.9459459459459459,
          0.972972972972973,
          0.972972972972973,
          0.972972972972973,
          1,
          1
         ]
        },
        {
         "mode": "lines",
         "name": "Logistic Regression (Area = 0.93)",
         "type": "scatter",
         "x": [
          0,
          0,
          0,
          0.1111111111111111,
          0.1111111111111111,
          0.3333333333333333,
          0.3333333333333333,
          0.7777777777777778,
          0.7777777777777778,
          1
         ],
         "y": [
          0,
          0.02702702702702703,
          0.7297297297297297,
          0.7297297297297297,
          0.8918918918918919,
          0.8918918918918919,
          0.972972972972973,
          0.972972972972973,
          1,
          1
         ]
        },
        {
         "mode": "lines",
         "name": "SVM (Area = 0.90)",
         "type": "scatter",
         "x": [
          0,
          0,
          0,
          0.1111111111111111,
          0.1111111111111111,
          0.2222222222222222,
          0.2222222222222222,
          0.3333333333333333,
          0.3333333333333333,
          1,
          1
         ],
         "y": [
          0,
          0.02702702702702703,
          0.4864864864864865,
          0.4864864864864865,
          0.8378378378378378,
          0.8378378378378378,
          0.918918918918919,
          0.918918918918919,
          0.972972972972973,
          0.972972972972973,
          1
         ]
        },
        {
         "line": {
          "dash": "dash"
         },
         "mode": "lines",
         "name": "Random (Area = 0.5)",
         "type": "scatter",
         "x": [
          0,
          1
         ],
         "y": [
          0,
          1
         ]
        }
       ],
       "layout": {
        "autosize": false,
        "height": 800,
        "showlegend": true,
        "template": {
         "data": {
          "bar": [
           {
            "error_x": {
             "color": "#2a3f5f"
            },
            "error_y": {
             "color": "#2a3f5f"
            },
            "marker": {
             "line": {
              "color": "#E5ECF6",
              "width": 0.5
             },
             "pattern": {
              "fillmode": "overlay",
              "size": 10,
              "solidity": 0.2
             }
            },
            "type": "bar"
           }
          ],
          "barpolar": [
           {
            "marker": {
             "line": {
              "color": "#E5ECF6",
              "width": 0.5
             },
             "pattern": {
              "fillmode": "overlay",
              "size": 10,
              "solidity": 0.2
             }
            },
            "type": "barpolar"
           }
          ],
          "carpet": [
           {
            "aaxis": {
             "endlinecolor": "#2a3f5f",
             "gridcolor": "white",
             "linecolor": "white",
             "minorgridcolor": "white",
             "startlinecolor": "#2a3f5f"
            },
            "baxis": {
             "endlinecolor": "#2a3f5f",
             "gridcolor": "white",
             "linecolor": "white",
             "minorgridcolor": "white",
             "startlinecolor": "#2a3f5f"
            },
            "type": "carpet"
           }
          ],
          "choropleth": [
           {
            "colorbar": {
             "outlinewidth": 0,
             "ticks": ""
            },
            "type": "choropleth"
           }
          ],
          "contour": [
           {
            "colorbar": {
             "outlinewidth": 0,
             "ticks": ""
            },
            "colorscale": [
             [
              0,
              "#0d0887"
             ],
             [
              0.1111111111111111,
              "#46039f"
             ],
             [
              0.2222222222222222,
              "#7201a8"
             ],
             [
              0.3333333333333333,
              "#9c179e"
             ],
             [
              0.4444444444444444,
              "#bd3786"
             ],
             [
              0.5555555555555556,
              "#d8576b"
             ],
             [
              0.6666666666666666,
              "#ed7953"
             ],
             [
              0.7777777777777778,
              "#fb9f3a"
             ],
             [
              0.8888888888888888,
              "#fdca26"
             ],
             [
              1,
              "#f0f921"
             ]
            ],
            "type": "contour"
           }
          ],
          "contourcarpet": [
           {
            "colorbar": {
             "outlinewidth": 0,
             "ticks": ""
            },
            "type": "contourcarpet"
           }
          ],
          "heatmap": [
           {
            "colorbar": {
             "outlinewidth": 0,
             "ticks": ""
            },
            "colorscale": [
             [
              0,
              "#0d0887"
             ],
             [
              0.1111111111111111,
              "#46039f"
             ],
             [
              0.2222222222222222,
              "#7201a8"
             ],
             [
              0.3333333333333333,
              "#9c179e"
             ],
             [
              0.4444444444444444,
              "#bd3786"
             ],
             [
              0.5555555555555556,
              "#d8576b"
             ],
             [
              0.6666666666666666,
              "#ed7953"
             ],
             [
              0.7777777777777778,
              "#fb9f3a"
             ],
             [
              0.8888888888888888,
              "#fdca26"
             ],
             [
              1,
              "#f0f921"
             ]
            ],
            "type": "heatmap"
           }
          ],
          "heatmapgl": [
           {
            "colorbar": {
             "outlinewidth": 0,
             "ticks": ""
            },
            "colorscale": [
             [
              0,
              "#0d0887"
             ],
             [
              0.1111111111111111,
              "#46039f"
             ],
             [
              0.2222222222222222,
              "#7201a8"
             ],
             [
              0.3333333333333333,
              "#9c179e"
             ],
             [
              0.4444444444444444,
              "#bd3786"
             ],
             [
              0.5555555555555556,
              "#d8576b"
             ],
             [
              0.6666666666666666,
              "#ed7953"
             ],
             [
              0.7777777777777778,
              "#fb9f3a"
             ],
             [
              0.8888888888888888,
              "#fdca26"
             ],
             [
              1,
              "#f0f921"
             ]
            ],
            "type": "heatmapgl"
           }
          ],
          "histogram": [
           {
            "marker": {
             "pattern": {
              "fillmode": "overlay",
              "size": 10,
              "solidity": 0.2
             }
            },
            "type": "histogram"
           }
          ],
          "histogram2d": [
           {
            "colorbar": {
             "outlinewidth": 0,
             "ticks": ""
            },
            "colorscale": [
             [
              0,
              "#0d0887"
             ],
             [
              0.1111111111111111,
              "#46039f"
             ],
             [
              0.2222222222222222,
              "#7201a8"
             ],
             [
              0.3333333333333333,
              "#9c179e"
             ],
             [
              0.4444444444444444,
              "#bd3786"
             ],
             [
              0.5555555555555556,
              "#d8576b"
             ],
             [
              0.6666666666666666,
              "#ed7953"
             ],
             [
              0.7777777777777778,
              "#fb9f3a"
             ],
             [
              0.8888888888888888,
              "#fdca26"
             ],
             [
              1,
              "#f0f921"
             ]
            ],
            "type": "histogram2d"
           }
          ],
          "histogram2dcontour": [
           {
            "colorbar": {
             "outlinewidth": 0,
             "ticks": ""
            },
            "colorscale": [
             [
              0,
              "#0d0887"
             ],
             [
              0.1111111111111111,
              "#46039f"
             ],
             [
              0.2222222222222222,
              "#7201a8"
             ],
             [
              0.3333333333333333,
              "#9c179e"
             ],
             [
              0.4444444444444444,
              "#bd3786"
             ],
             [
              0.5555555555555556,
              "#d8576b"
             ],
             [
              0.6666666666666666,
              "#ed7953"
             ],
             [
              0.7777777777777778,
              "#fb9f3a"
             ],
             [
              0.8888888888888888,
              "#fdca26"
             ],
             [
              1,
              "#f0f921"
             ]
            ],
            "type": "histogram2dcontour"
           }
          ],
          "mesh3d": [
           {
            "colorbar": {
             "outlinewidth": 0,
             "ticks": ""
            },
            "type": "mesh3d"
           }
          ],
          "parcoords": [
           {
            "line": {
             "colorbar": {
              "outlinewidth": 0,
              "ticks": ""
             }
            },
            "type": "parcoords"
           }
          ],
          "pie": [
           {
            "automargin": true,
            "type": "pie"
           }
          ],
          "scatter": [
           {
            "fillpattern": {
             "fillmode": "overlay",
             "size": 10,
             "solidity": 0.2
            },
            "type": "scatter"
           }
          ],
          "scatter3d": [
           {
            "line": {
             "colorbar": {
              "outlinewidth": 0,
              "ticks": ""
             }
            },
            "marker": {
             "colorbar": {
              "outlinewidth": 0,
              "ticks": ""
             }
            },
            "type": "scatter3d"
           }
          ],
          "scattercarpet": [
           {
            "marker": {
             "colorbar": {
              "outlinewidth": 0,
              "ticks": ""
             }
            },
            "type": "scattercarpet"
           }
          ],
          "scattergeo": [
           {
            "marker": {
             "colorbar": {
              "outlinewidth": 0,
              "ticks": ""
             }
            },
            "type": "scattergeo"
           }
          ],
          "scattergl": [
           {
            "marker": {
             "colorbar": {
              "outlinewidth": 0,
              "ticks": ""
             }
            },
            "type": "scattergl"
           }
          ],
          "scattermapbox": [
           {
            "marker": {
             "colorbar": {
              "outlinewidth": 0,
              "ticks": ""
             }
            },
            "type": "scattermapbox"
           }
          ],
          "scatterpolar": [
           {
            "marker": {
             "colorbar": {
              "outlinewidth": 0,
              "ticks": ""
             }
            },
            "type": "scatterpolar"
           }
          ],
          "scatterpolargl": [
           {
            "marker": {
             "colorbar": {
              "outlinewidth": 0,
              "ticks": ""
             }
            },
            "type": "scatterpolargl"
           }
          ],
          "scatterternary": [
           {
            "marker": {
             "colorbar": {
              "outlinewidth": 0,
              "ticks": ""
             }
            },
            "type": "scatterternary"
           }
          ],
          "surface": [
           {
            "colorbar": {
             "outlinewidth": 0,
             "ticks": ""
            },
            "colorscale": [
             [
              0,
              "#0d0887"
             ],
             [
              0.1111111111111111,
              "#46039f"
             ],
             [
              0.2222222222222222,
              "#7201a8"
             ],
             [
              0.3333333333333333,
              "#9c179e"
             ],
             [
              0.4444444444444444,
              "#bd3786"
             ],
             [
              0.5555555555555556,
              "#d8576b"
             ],
             [
              0.6666666666666666,
              "#ed7953"
             ],
             [
              0.7777777777777778,
              "#fb9f3a"
             ],
             [
              0.8888888888888888,
              "#fdca26"
             ],
             [
              1,
              "#f0f921"
             ]
            ],
            "type": "surface"
           }
          ],
          "table": [
           {
            "cells": {
             "fill": {
              "color": "#EBF0F8"
             },
             "line": {
              "color": "white"
             }
            },
            "header": {
             "fill": {
              "color": "#C8D4E3"
             },
             "line": {
              "color": "white"
             }
            },
            "type": "table"
           }
          ]
         },
         "layout": {
          "annotationdefaults": {
           "arrowcolor": "#2a3f5f",
           "arrowhead": 0,
           "arrowwidth": 1
          },
          "autotypenumbers": "strict",
          "coloraxis": {
           "colorbar": {
            "outlinewidth": 0,
            "ticks": ""
           }
          },
          "colorscale": {
           "diverging": [
            [
             0,
             "#8e0152"
            ],
            [
             0.1,
             "#c51b7d"
            ],
            [
             0.2,
             "#de77ae"
            ],
            [
             0.3,
             "#f1b6da"
            ],
            [
             0.4,
             "#fde0ef"
            ],
            [
             0.5,
             "#f7f7f7"
            ],
            [
             0.6,
             "#e6f5d0"
            ],
            [
             0.7,
             "#b8e186"
            ],
            [
             0.8,
             "#7fbc41"
            ],
            [
             0.9,
             "#4d9221"
            ],
            [
             1,
             "#276419"
            ]
           ],
           "sequential": [
            [
             0,
             "#0d0887"
            ],
            [
             0.1111111111111111,
             "#46039f"
            ],
            [
             0.2222222222222222,
             "#7201a8"
            ],
            [
             0.3333333333333333,
             "#9c179e"
            ],
            [
             0.4444444444444444,
             "#bd3786"
            ],
            [
             0.5555555555555556,
             "#d8576b"
            ],
            [
             0.6666666666666666,
             "#ed7953"
            ],
            [
             0.7777777777777778,
             "#fb9f3a"
            ],
            [
             0.8888888888888888,
             "#fdca26"
            ],
            [
             1,
             "#f0f921"
            ]
           ],
           "sequentialminus": [
            [
             0,
             "#0d0887"
            ],
            [
             0.1111111111111111,
             "#46039f"
            ],
            [
             0.2222222222222222,
             "#7201a8"
            ],
            [
             0.3333333333333333,
             "#9c179e"
            ],
            [
             0.4444444444444444,
             "#bd3786"
            ],
            [
             0.5555555555555556,
             "#d8576b"
            ],
            [
             0.6666666666666666,
             "#ed7953"
            ],
            [
             0.7777777777777778,
             "#fb9f3a"
            ],
            [
             0.8888888888888888,
             "#fdca26"
            ],
            [
             1,
             "#f0f921"
            ]
           ]
          },
          "colorway": [
           "#636efa",
           "#EF553B",
           "#00cc96",
           "#ab63fa",
           "#FFA15A",
           "#19d3f3",
           "#FF6692",
           "#B6E880",
           "#FF97FF",
           "#FECB52"
          ],
          "font": {
           "color": "#2a3f5f"
          },
          "geo": {
           "bgcolor": "white",
           "lakecolor": "white",
           "landcolor": "#E5ECF6",
           "showlakes": true,
           "showland": true,
           "subunitcolor": "white"
          },
          "hoverlabel": {
           "align": "left"
          },
          "hovermode": "closest",
          "mapbox": {
           "style": "light"
          },
          "paper_bgcolor": "white",
          "plot_bgcolor": "#E5ECF6",
          "polar": {
           "angularaxis": {
            "gridcolor": "white",
            "linecolor": "white",
            "ticks": ""
           },
           "bgcolor": "#E5ECF6",
           "radialaxis": {
            "gridcolor": "white",
            "linecolor": "white",
            "ticks": ""
           }
          },
          "scene": {
           "xaxis": {
            "backgroundcolor": "#E5ECF6",
            "gridcolor": "white",
            "gridwidth": 2,
            "linecolor": "white",
            "showbackground": true,
            "ticks": "",
            "zerolinecolor": "white"
           },
           "yaxis": {
            "backgroundcolor": "#E5ECF6",
            "gridcolor": "white",
            "gridwidth": 2,
            "linecolor": "white",
            "showbackground": true,
            "ticks": "",
            "zerolinecolor": "white"
           },
           "zaxis": {
            "backgroundcolor": "#E5ECF6",
            "gridcolor": "white",
            "gridwidth": 2,
            "linecolor": "white",
            "showbackground": true,
            "ticks": "",
            "zerolinecolor": "white"
           }
          },
          "shapedefaults": {
           "line": {
            "color": "#2a3f5f"
           }
          },
          "ternary": {
           "aaxis": {
            "gridcolor": "white",
            "linecolor": "white",
            "ticks": ""
           },
           "baxis": {
            "gridcolor": "white",
            "linecolor": "white",
            "ticks": ""
           },
           "bgcolor": "#E5ECF6",
           "caxis": {
            "gridcolor": "white",
            "linecolor": "white",
            "ticks": ""
           }
          },
          "title": {
           "x": 0.05
          },
          "xaxis": {
           "automargin": true,
           "gridcolor": "white",
           "linecolor": "white",
           "ticks": "",
           "title": {
            "standoff": 15
           },
           "zerolinecolor": "white",
           "zerolinewidth": 2
          },
          "yaxis": {
           "automargin": true,
           "gridcolor": "white",
           "linecolor": "white",
           "ticks": "",
           "title": {
            "standoff": 15
           },
           "zerolinecolor": "white",
           "zerolinewidth": 2
          }
         }
        },
        "title": {
         "text": "Receiver Operating Characteristic"
        },
        "width": 800,
        "xaxis": {
         "title": {
          "text": "False Positive Rate"
         }
        },
        "yaxis": {
         "title": {
          "text": "True Positive Rate"
         }
        }
       }
      }
     },
     "metadata": {},
     "output_type": "display_data"
    }
   ],
   "source": [
    "data = [trace_xgb ,trace_lr, trace_svm, trace_random]\n",
    "\n",
    "# Define layout with square aspect ratio\n",
    "layout = go.Layout(\n",
    "    title='Receiver Operating Characteristic',\n",
    "    xaxis=dict(title='False Positive Rate'),\n",
    "    yaxis=dict(title='True Positive Rate'),\n",
    "    autosize=False,\n",
    "    width=800,\n",
    "    height=800,\n",
    "    showlegend=True\n",
    ")\n",
    "\n",
    "# Define figure and add data\n",
    "fig = go.Figure(data=data, layout=layout)\n",
    "\n",
    "# Show figure\n",
    "fig.show()"
   ]
  }
 ],
 "metadata": {
  "colab": {
   "provenance": []
  },
  "kaggle": {
   "accelerator": "none",
   "dataSources": [
    {
     "datasetId": 4751729,
     "sourceId": 8056423,
     "sourceType": "datasetVersion"
    },
    {
     "datasetId": 4759248,
     "sourceId": 8066737,
     "sourceType": "datasetVersion"
    }
   ],
   "dockerImageVersionId": 30646,
   "isGpuEnabled": false,
   "isInternetEnabled": false,
   "language": "python",
   "sourceType": "notebook"
  },
  "kernelspec": {
   "display_name": "Python 3 (ipykernel)",
   "language": "python",
   "name": "python3"
  },
  "language_info": {
   "codemirror_mode": {
    "name": "ipython",
    "version": 3
   },
   "file_extension": ".py",
   "mimetype": "text/x-python",
   "name": "python",
   "nbconvert_exporter": "python",
   "pygments_lexer": "ipython3",
   "version": "3.11.9"
  },
  "papermill": {
   "default_parameters": {},
   "duration": 14.347145,
   "end_time": "2024-04-16T17:40:01.261778",
   "environment_variables": {},
   "exception": null,
   "input_path": "__notebook__.ipynb",
   "output_path": "__notebook__.ipynb",
   "parameters": {},
   "start_time": "2024-04-16T17:39:46.914633",
   "version": "2.5.0"
  }
 },
 "nbformat": 4,
 "nbformat_minor": 5
}
